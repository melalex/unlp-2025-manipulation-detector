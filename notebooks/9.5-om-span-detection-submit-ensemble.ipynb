{
 "cells": [
  {
   "cell_type": "markdown",
   "metadata": {},
   "source": [
    "# Base Span Detection implementation"
   ]
  },
  {
   "cell_type": "markdown",
   "metadata": {},
   "source": [
    "1. Import dependencies"
   ]
  },
  {
   "cell_type": "code",
   "execution_count": null,
   "metadata": {},
   "outputs": [],
   "source": [
    "import random\n",
    "import time\n",
    "import torch\n",
    "import os\n",
    "\n",
    "import pandas as pd\n",
    "import numpy as np\n",
    "\n",
    "from transformers import (\n",
    "    AutoTokenizer,\n",
    "    DataCollatorForTokenClassification,\n",
    "    AutoModelForTokenClassification,\n",
    "    TrainingArguments,\n",
    "    Trainer,\n",
    "    pipeline,\n",
    ")\n",
    "\n",
    "import sys\n",
    "\n",
    "sys.path.append('..')\n",
    "sys.path.append('../src/data')\n",
    "\n",
    "from src.util.torch_device import resolve_torch_device\n",
    "from src.data.span_detection_ds import ManipulationDetectionDataset\n",
    "from src.definitions import (\n",
    "    MODELS_FOLDER,\n",
    "    RAW_DATA_FOLDER,\n",
    "    SUBMISSIONS_FOLDER,\n",
    "    PROCESSED_DATA_FOLDER,\n",
    ")\n",
    "from src.data.kaggle import submit_competition\n",
    "from src.model.span_detection_metrics import compute_metrics"
   ]
  },
  {
   "cell_type": "markdown",
   "metadata": {},
   "source": [
    "2. Prepare Env"
   ]
  },
  {
   "cell_type": "code",
   "execution_count": 20,
   "metadata": {},
   "outputs": [],
   "source": [
    "random_seed = 42\n",
    "\n",
    "random.seed(random_seed)\n",
    "torch.manual_seed(random_seed)\n",
    "np.random.seed(random_seed)\n",
    "\n",
    "device = resolve_torch_device()\n",
    "\n",
    "epoch_time = int(time.time())\n",
    "\n",
    "#os.environ[\"PYTORCH_MPS_HIGH_WATERMARK_RATIO\"] = \"0.0\""
   ]
  },
  {
   "cell_type": "code",
   "execution_count": 21,
   "metadata": {},
   "outputs": [],
   "source": [
    "model_checkpoint_ukr = 'FrinzTheCoder/bert-base-multilingual-cased-ukr'#MODELS_FOLDER / \"ua-fine-tuned-xlm-roberta-large\"\n",
    "model_checkpoint_ru = 'Gherman/bert-base-NER-Russian'\n",
    "result_model_ukr = f\"span-detection-{str(model_checkpoint_ukr).split('/')[-1]}\"\n",
    "\n",
    "classifier_dropout = 0.1\n",
    "learning_rate = 2e-5\n",
    "weight_decay = 0.01\n",
    "num_train_epochs = 5\n",
    "\n",
    "submission_desc = (\n",
    "    \"Use ensemble of two models: EvanD/xlm-roberta-base-ukrainian-ner-ukrner and yqelz/xml-roberta-large-ner-russian\"\n",
    ")"
   ]
  },
  {
   "cell_type": "markdown",
   "metadata": {},
   "source": [
    "3. Load dataset"
   ]
  },
  {
   "cell_type": "code",
   "execution_count": 4,
   "metadata": {},
   "outputs": [
    {
     "data": {
      "application/vnd.jupyter.widget-view+json": {
       "model_id": "81f5b67f597a43108cf340f76ae13b24",
       "version_major": 2,
       "version_minor": 0
      },
      "text/plain": [
       "Saving the dataset (0/1 shards):   0%|          | 0/3822 [00:00<?, ? examples/s]"
      ]
     },
     "metadata": {},
     "output_type": "display_data"
    }
   ],
   "source": [
    "tokenizer = AutoTokenizer.from_pretrained(model_checkpoint_ukr)\n",
    "\n",
    "dataset_blueprint = ManipulationDetectionDataset(\n",
    "    tokenizer=tokenizer,\n",
    "    raw_path=RAW_DATA_FOLDER / \"span-detection.parquet\",\n",
    "    processed_path=PROCESSED_DATA_FOLDER / \"span-detection\" / model_checkpoint_ukr,\n",
    "    seed=random_seed,\n",
    "    do_split=False\n",
    ")\n",
    "\n",
    "dataset = dataset_blueprint.read()"
   ]
  },
  {
   "cell_type": "markdown",
   "metadata": {},
   "source": [
    "3. Prepare model"
   ]
  },
  {
   "cell_type": "code",
   "execution_count": null,
   "metadata": {},
   "outputs": [],
   "source": [
    "from transformers import AutoModel\n",
    "from transformers import PretrainedConfig, PreTrainedModel\n",
    "\n",
    "class EnsembleConfig(PretrainedConfig):\n",
    "    def __init__(self, model_ukr = None, model_ru = None, **kwargs):\n",
    "        self.model_ukr = model_ukr\n",
    "        self.model_ru = model_ru\n",
    "        super().__init__(**kwargs)\n",
    "\n",
    "class BertForTokenClassification(PreTrainedModel):\n",
    "    config_class = EnsembleConfig\n",
    "\n",
    "    def __init__(self, config):\n",
    "        super().__init__(config)\n",
    "        self.model_ukr = AutoModel.from_pretrained(config.model_ukr)\n",
    "        self.model_ru = AutoModel.from_pretrained(config.model_ru)\n",
    "\n",
    "        self.dropout = torch.nn.Dropout(config.classifier_dropout)\n",
    "        self.fusion = torch.nn.Linear(self.model_ukr.config.hidden_size+self.model_ru.config.hidden_size, config.num_labels)\n",
    "\n",
    "        self.id2label = config.id2label\n",
    "        self.label2id = config.label2id\n",
    "\n",
    "\n",
    "    def forward(self, input_ids, attention_mask=None, labels=None, token_type_ids=None):\n",
    "        outputs_ukr = self.model_ukr(input_ids=input_ids, attention_mask=attention_mask, token_type_ids=token_type_ids)\n",
    "        outputs_ru = self.model_ru(input_ids=input_ids, attention_mask=attention_mask, token_type_ids=token_type_ids)\n",
    "\n",
    "        pooled_output = torch.cat((outputs_ukr.last_hidden_state, outputs_ru.last_hidden_state), dim=-1)\n",
    "        pooled_output = self.dropout(pooled_output)\n",
    "        logits = self.fusion(pooled_output)\n",
    "\n",
    "        loss = None\n",
    "\n",
    "        if labels is not None:\n",
    "            loss_fct = torch.nn.CrossEntropyLoss()\n",
    "            loss = loss_fct(logits.view(-1, logits.shape[-1]), labels.view(-1))\n",
    "\n",
    "        return {\"loss\": loss, \"logits\": logits}\n"
   ]
  },
  {
   "cell_type": "code",
   "execution_count": null,
   "metadata": {},
   "outputs": [
    {
     "name": "stderr",
     "output_type": "stream",
     "text": [
      "Some weights of BertModel were not initialized from the model checkpoint at Gherman/bert-base-NER-Russian and are newly initialized: ['bert.pooler.dense.bias', 'bert.pooler.dense.weight']\n",
      "You should probably TRAIN this model on a down-stream task to be able to use it for predictions and inference.\n"
     ]
    }
   ],
   "source": [
    "model = BertForTokenClassification(\n",
    "    EnsembleConfig(\n",
    "        model_ukr=model_checkpoint_ukr, \n",
    "        model_ru=model_checkpoint_ru, \n",
    "        num_labels=len(dataset_blueprint.label2id), \n",
    "        classifier_dropout=classifier_dropout, \n",
    "        id2label=dataset_blueprint.id2label, \n",
    "        label2id=dataset_blueprint.label2id, \n",
    "    )\n",
    ").to(device)\n",
    "\n",
    "data_collator = DataCollatorForTokenClassification(tokenizer)\n",
    "\n",
    "training_args = TrainingArguments(\n",
    "    output_dir=MODELS_FOLDER / f\"{result_model_ukr}-checkpoint\",\n",
    "    learning_rate=learning_rate,\n",
    "    per_device_train_batch_size=6,\n",
    "    per_device_eval_batch_size=6,\n",
    "    num_train_epochs=2,\n",
    "    weight_decay=weight_decay,\n",
    "    eval_strategy=\"epoch\",\n",
    "    save_strategy=\"epoch\",\n",
    "    load_best_model_at_end=True,\n",
    "    seed=random_seed,\n",
    "    logging_steps=200,\n",
    "    #auto_find_batch_size=True,\n",
    "    #torch_empty_cache_steps=1000,\n",
    "    metric_for_best_model=\"token_f1\",\n",
    "    greater_is_better=True,\n",
    ")\n",
    "\n",
    "trainer = Trainer(\n",
    "    model=model,\n",
    "    args=training_args,\n",
    "    train_dataset=dataset,\n",
    "    eval_dataset=dataset,\n",
    "    processing_class=tokenizer,\n",
    "    data_collator=data_collator,\n",
    "    compute_metrics=compute_metrics(dataset_blueprint),\n",
    ")"
   ]
  },
  {
   "cell_type": "markdown",
   "metadata": {},
   "source": [
    "4. Train model"
   ]
  },
  {
   "cell_type": "code",
   "execution_count": 7,
   "metadata": {},
   "outputs": [
    {
     "data": {
      "text/html": [
       "\n",
       "    <div>\n",
       "      \n",
       "      <progress value='1274' max='1274' style='width:300px; height:20px; vertical-align: middle;'></progress>\n",
       "      [1274/1274 07:20, Epoch 2/2]\n",
       "    </div>\n",
       "    <table border=\"1\" class=\"dataframe\">\n",
       "  <thead>\n",
       " <tr style=\"text-align: left;\">\n",
       "      <th>Epoch</th>\n",
       "      <th>Training Loss</th>\n",
       "      <th>Validation Loss</th>\n",
       "      <th>Token F1</th>\n",
       "      <th>Token Precision</th>\n",
       "      <th>Token Recall</th>\n",
       "      <th>Span F1</th>\n",
       "      <th>Span Precision</th>\n",
       "      <th>Span Recall</th>\n",
       "      <th>Accuracy</th>\n",
       "    </tr>\n",
       "  </thead>\n",
       "  <tbody>\n",
       "    <tr>\n",
       "      <td>1</td>\n",
       "      <td>0.452900</td>\n",
       "      <td>0.389460</td>\n",
       "      <td>0.598528</td>\n",
       "      <td>0.655339</td>\n",
       "      <td>0.550780</td>\n",
       "      <td>0.076611</td>\n",
       "      <td>0.058319</td>\n",
       "      <td>0.111623</td>\n",
       "      <td>0.817184</td>\n",
       "    </tr>\n",
       "    <tr>\n",
       "      <td>2</td>\n",
       "      <td>0.389800</td>\n",
       "      <td>0.340581</td>\n",
       "      <td>0.636095</td>\n",
       "      <td>0.764098</td>\n",
       "      <td>0.544825</td>\n",
       "      <td>0.097438</td>\n",
       "      <td>0.084538</td>\n",
       "      <td>0.114983</td>\n",
       "      <td>0.845764</td>\n",
       "    </tr>\n",
       "  </tbody>\n",
       "</table><p>"
      ],
      "text/plain": [
       "<IPython.core.display.HTML object>"
      ]
     },
     "metadata": {},
     "output_type": "display_data"
    },
    {
     "data": {
      "text/plain": [
       "TrainOutput(global_step=1274, training_loss=0.4318441184386728, metrics={'train_runtime': 440.1952, 'train_samples_per_second': 17.365, 'train_steps_per_second': 2.894, 'total_flos': 2975397501464136.0, 'train_loss': 0.4318441184386728, 'epoch': 2.0})"
      ]
     },
     "execution_count": 7,
     "metadata": {},
     "output_type": "execute_result"
    }
   ],
   "source": [
    "trainer.train()"
   ]
  },
  {
   "cell_type": "markdown",
   "metadata": {},
   "source": [
    "5. Save weights"
   ]
  },
  {
   "cell_type": "code",
   "execution_count": 8,
   "metadata": {},
   "outputs": [
    {
     "data": {
      "text/plain": [
       "('c:\\\\Users\\\\Vitalii\\\\Desktop\\\\5_course\\\\UNLP\\\\unlp-2025-manipulation-detector\\\\notebooks\\\\..\\\\models\\\\span-detection-bert-base-multilingual-cased-ukr\\\\tokenizer_config.json',\n",
       " 'c:\\\\Users\\\\Vitalii\\\\Desktop\\\\5_course\\\\UNLP\\\\unlp-2025-manipulation-detector\\\\notebooks\\\\..\\\\models\\\\span-detection-bert-base-multilingual-cased-ukr\\\\special_tokens_map.json',\n",
       " 'c:\\\\Users\\\\Vitalii\\\\Desktop\\\\5_course\\\\UNLP\\\\unlp-2025-manipulation-detector\\\\notebooks\\\\..\\\\models\\\\span-detection-bert-base-multilingual-cased-ukr\\\\vocab.txt',\n",
       " 'c:\\\\Users\\\\Vitalii\\\\Desktop\\\\5_course\\\\UNLP\\\\unlp-2025-manipulation-detector\\\\notebooks\\\\..\\\\models\\\\span-detection-bert-base-multilingual-cased-ukr\\\\added_tokens.json',\n",
       " 'c:\\\\Users\\\\Vitalii\\\\Desktop\\\\5_course\\\\UNLP\\\\unlp-2025-manipulation-detector\\\\notebooks\\\\..\\\\models\\\\span-detection-bert-base-multilingual-cased-ukr\\\\tokenizer.json')"
      ]
     },
     "execution_count": 8,
     "metadata": {},
     "output_type": "execute_result"
    }
   ],
   "source": [
    "trainer.save_model(MODELS_FOLDER / result_model_ukr)\n",
    "tokenizer.save_pretrained(MODELS_FOLDER / result_model_ukr)"
   ]
  },
  {
   "cell_type": "markdown",
   "metadata": {},
   "source": [
    "6. Test"
   ]
  },
  {
   "cell_type": "code",
   "execution_count": null,
   "metadata": {},
   "outputs": [
    {
     "name": "stderr",
     "output_type": "stream",
     "text": [
      "Some weights of BertModel were not initialized from the model checkpoint at Gherman/bert-base-NER-Russian and are newly initialized: ['bert.pooler.dense.bias', 'bert.pooler.dense.weight']\n",
      "You should probably TRAIN this model on a down-stream task to be able to use it for predictions and inference.\n"
     ]
    }
   ],
   "source": [
    "model = BertForTokenClassification.from_pretrained(MODELS_FOLDER / result_model_ukr).to(device)\n",
    "tokenizer = AutoTokenizer.from_pretrained(MODELS_FOLDER / result_model_ukr)"
   ]
  },
  {
   "cell_type": "code",
   "execution_count": 12,
   "metadata": {},
   "outputs": [],
   "source": [
    "submission_df = pd.read_csv(RAW_DATA_FOLDER / \"test.csv\")"
   ]
  },
  {
   "cell_type": "code",
   "execution_count": 13,
   "metadata": {},
   "outputs": [
    {
     "name": "stderr",
     "output_type": "stream",
     "text": [
      "Device set to use cuda:0\n"
     ]
    }
   ],
   "source": [
    "nlp = pipeline(\n",
    "    \"ner\",\n",
    "    model=model,\n",
    "    tokenizer=tokenizer,\n",
    "    aggregation_strategy=\"simple\",\n",
    ")"
   ]
  },
  {
   "cell_type": "code",
   "execution_count": 14,
   "metadata": {},
   "outputs": [
    {
     "name": "stderr",
     "output_type": "stream",
     "text": [
      "You seem to be using the pipelines sequentially on GPU. In order to maximize efficiency please use a dataset\n"
     ]
    }
   ],
   "source": [
    "test_spans = {}\n",
    "for i, row in submission_df.iterrows():\n",
    "    res = nlp(row[\"content\"])\n",
    "    res_manipulation = [r for r in res if r[\"entity_group\"] == \"MANIPULATION\"]\n",
    "    res_manipulation_spans = [(r[\"start\"], r[\"end\"]) for r in res_manipulation]\n",
    "    test_spans[row[\"id\"]] = res_manipulation_spans"
   ]
  },
  {
   "cell_type": "code",
   "execution_count": 15,
   "metadata": {},
   "outputs": [],
   "source": [
    "test_spans_df = pd.DataFrame(test_spans.items(), columns=[\"id\", \"trigger_words\"])"
   ]
  },
  {
   "cell_type": "code",
   "execution_count": 22,
   "metadata": {},
   "outputs": [],
   "source": [
    "submission_path = SUBMISSIONS_FOLDER / \"span-detection\" / f\"{result_model_ukr}_1epoch.csv\"\n",
    "\n",
    "submission_path.parent.mkdir(parents=True, exist_ok=True)\n",
    "\n",
    "test_spans_df.to_csv(submission_path, index=False)"
   ]
  },
  {
   "cell_type": "markdown",
   "metadata": {},
   "source": [
    "7. Submit"
   ]
  },
  {
   "cell_type": "code",
   "execution_count": null,
   "metadata": {},
   "outputs": [],
   "source": [
    "submission_params_str = f\"classifier_dropout = {classifier_dropout}, learning_rate = {learning_rate}, weight_decay = {weight_decay}, num_train_epochs = {num_train_epochs}\"\n",
    "message = f\"[ {submission_params_str} ] {submission_desc}\"\n",
    "\n",
    "submit_competition(\n",
    "    path=submission_path, competition=\"unlp-2025-shared-task-span-identification\", \n",
    "    message='Ensemble of two models: EvanD/xlm-roberta-base-ukrainian-ner-ukrner and yqelz/xml-roberta-large-ner-russian'\n",
    ")"
   ]
  }
 ],
 "metadata": {
  "kernelspec": {
   "display_name": "main",
   "language": "python",
   "name": "python3"
  },
  "language_info": {
   "codemirror_mode": {
    "name": "ipython",
    "version": 3
   },
   "file_extension": ".py",
   "mimetype": "text/x-python",
   "name": "python",
   "nbconvert_exporter": "python",
   "pygments_lexer": "ipython3",
   "version": "3.10.15"
  }
 },
 "nbformat": 4,
 "nbformat_minor": 2
}
