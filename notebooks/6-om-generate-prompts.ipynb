{
 "cells": [
  {
   "cell_type": "markdown",
   "metadata": {},
   "source": [
    "# Span Detection UA only implementation"
   ]
  },
  {
   "cell_type": "markdown",
   "metadata": {},
   "source": [
    "1. Import dependencies"
   ]
  },
  {
   "cell_type": "code",
   "execution_count": 1,
   "metadata": {},
   "outputs": [],
   "source": [
    "import json\n",
    "\n",
    "import pandas as pd\n",
    "\n",
    "from src.definitions import (\n",
    "    RAW_DATA_FOLDER,\n",
    "    PROMPTS_FOLDER,\n",
    ")"
   ]
  },
  {
   "cell_type": "markdown",
   "metadata": {},
   "source": [
    "2. Prepare Env"
   ]
  },
  {
   "cell_type": "code",
   "execution_count": 2,
   "metadata": {},
   "outputs": [],
   "source": [
    "generated_examples_count = 5\n",
    "max_content_length = 4000"
   ]
  },
  {
   "cell_type": "code",
   "execution_count": 3,
   "metadata": {},
   "outputs": [],
   "source": [
    "techniques =[\n",
    "    \"appeal_to_fear\",\n",
    "    \"bandwagon\",\n",
    "    \"cherry_picking\",\n",
    "    \"cliche\",\n",
    "    \"euphoria\",\n",
    "    \"fud\",\n",
    "    \"glittering_generalities\",\n",
    "    \"loaded_language\",\n",
    "    \"straw_man\",\n",
    "    \"whataboutism\",\n",
    "]"
   ]
  },
  {
   "cell_type": "markdown",
   "metadata": {},
   "source": [
    "3. Load dataset"
   ]
  },
  {
   "cell_type": "code",
   "execution_count": 4,
   "metadata": {},
   "outputs": [],
   "source": [
    "df = pd.read_parquet(RAW_DATA_FOLDER / \"span-detection.parquet\")"
   ]
  },
  {
   "cell_type": "markdown",
   "metadata": {},
   "source": [
    "3. Extract ua and ru parts of dataset "
   ]
  },
  {
   "cell_type": "code",
   "execution_count": 5,
   "metadata": {},
   "outputs": [],
   "source": [
    "df_ua = df.query(\"lang == 'uk' and manipulative == True\")\n",
    "df_ru = df.query(\"lang == 'ru' and manipulative == True\")"
   ]
  },
  {
   "cell_type": "markdown",
   "metadata": {},
   "source": [
    "4. Create prompts folder"
   ]
  },
  {
   "cell_type": "code",
   "execution_count": 6,
   "metadata": {},
   "outputs": [],
   "source": [
    "UA_PROMPTS_FOLDER = PROMPTS_FOLDER / \"ua\"\n",
    "RU_PROMPTS_FOLDER = PROMPTS_FOLDER / \"ru\"\n",
    "\n",
    "UA_PROMPTS_FOLDER.mkdir(parents=True, exist_ok=True)\n",
    "RU_PROMPTS_FOLDER.mkdir(parents=True, exist_ok=True)"
   ]
  },
  {
   "cell_type": "code",
   "execution_count": 7,
   "metadata": {},
   "outputs": [],
   "source": [
    "def save_prompt(file_name, content):\n",
    "    with open(file_name, \"w\") as text_file:\n",
    "        text_file.write(content)"
   ]
  },
  {
   "cell_type": "markdown",
   "metadata": {},
   "source": [
    "5. Define base prompt"
   ]
  },
  {
   "cell_type": "code",
   "execution_count": 8,
   "metadata": {},
   "outputs": [],
   "source": [
    "def example_template(df, i):\n",
    "    loc = df.iloc[i].to_dict()\n",
    "    content = loc[\"content\"].replace(\"\\n\", \" \")\n",
    "    spans = [tuple(it.tolist()) for it in loc[\"trigger_words\"]]\n",
    "    techniques = loc[\"techniques\"]\n",
    "\n",
    "    return \\\n",
    "f\"\"\"\\\n",
    "content {i}: {content}\n",
    "spans {i}: {spans}\n",
    "techniques {i}: {techniques}\n",
    "\"\"\"\n",
    "\n",
    "def convert_to_example(df):\n",
    "    return [example_template(df, i) for i in range(len(df))]"
   ]
  },
  {
   "cell_type": "markdown",
   "metadata": {},
   "source": [
    "5. Define ua prompt"
   ]
  },
  {
   "cell_type": "code",
   "execution_count": 9,
   "metadata": {},
   "outputs": [],
   "source": [
    "base_prompt_ua = f\"\"\"\\\n",
    "Згенеруйте розмічені дані для класифікації токенів в задачі пошуку маніпуляцій у постах соціальних мереж.  \n",
    "Кожен приклад має містити:  \n",
    "1. content - Текст посту чи коментаря (максимум {max_content_length} символів) з соціальної мережі Телеграм. \n",
    "2. spans - Список індексних діапазонів символів маніпуляції.  \n",
    "3. techniques - Список маніпуляцій використаних у тексті посту. Можливі значення: 'appeal_to_fear', 'bandwagon', 'cherry_picking', 'cliche', 'euphoria', 'fud', 'glittering_generalities', 'loaded_language', 'straw_man', 'whataboutism'\n",
    "\"\"\"\n",
    "\n",
    "def ua_prompt_template(examples):\n",
    "    examples_list_str = \"##\\n\".join(examples)\n",
    "    examples_str = f\"Приклади:\\n{examples_list_str}\"\n",
    "    command_str = f\"Тепер згенеруйте ще {generated_examples_count} таких прикладів:\"\n",
    "\n",
    "    return base_prompt_ua + examples_str + command_str\n",
    "\n",
    "ua_prompt = ua_prompt_template(convert_to_example(df_ua))\n",
    "\n",
    "save_prompt(UA_PROMPTS_FOLDER / f\"generate-data-all.txt\", ua_prompt) \n",
    "\n",
    "for tech in techniques:\n",
    "    df_tech_ua = df_ua[df_ua[\"techniques\"].str.contains(tech, regex=False)]\n",
    "    ua_prompt = ua_prompt_template(convert_to_example(df_tech_ua))\n",
    "\n",
    "    save_prompt(UA_PROMPTS_FOLDER / f\"generate-data-{tech}.txt\", ua_prompt)"
   ]
  },
  {
   "cell_type": "markdown",
   "metadata": {},
   "source": [
    "6. Define ru prompt"
   ]
  },
  {
   "cell_type": "code",
   "execution_count": 10,
   "metadata": {},
   "outputs": [],
   "source": [
    "base_prompt_ru = f\"\"\"\\\n",
    "Сгенерируйте размеченные данные для классификации токенов в задаче поиска манипуляций в постах социальных сетей.\n",
    "Каждый пример должен содержать:\n",
    "1. content – текст поста или комментария (максимум {max_content_length} символов) из социальной сети Телеграмм.\n",
    "2. spans – список индексных диапазонов символов манипуляций.\n",
    "3. techniques – Список манипуляций использованных в тексте поста. Возможные значения: 'appeal_to_fear', 'bandwagon', 'cherry_picking', 'cliche', 'euphoria', 'fud', 'glittering_generalities', 'loaded_language', 'straw_man', 'whataboutism'\n",
    "\"\"\"\n",
    "\n",
    "def ru_prompt_template(examples):\n",
    "    examples_list_str = \"##\\n\".join(examples)\n",
    "    examples_str = f\"Примеры:\\n{examples_list_str}\"\n",
    "    command_str = f\"Теперь сгенерируйте еще {generated_examples_count} таких примеров:\"\n",
    "\n",
    "    return base_prompt_ru + examples_str + command_str\n",
    "\n",
    "ru_prompt = ru_prompt_template(convert_to_example(df_ru))\n",
    "save_prompt(RU_PROMPTS_FOLDER / f\"generate-data-all.txt\", ru_prompt) \n",
    "\n",
    "for tech in techniques:\n",
    "    df_tech_ru = df_ru[df_ru[\"techniques\"].str.contains(tech, regex=False)]\n",
    "    ru_prompt = ru_prompt_template(convert_to_example(df_tech_ru))\n",
    "\n",
    "    save_prompt(RU_PROMPTS_FOLDER / f\"generate-data-{tech}.txt\", ru_prompt) "
   ]
  },
  {
   "cell_type": "markdown",
   "metadata": {},
   "source": [
    "7. Create Vertex AI examples"
   ]
  },
  {
   "cell_type": "code",
   "execution_count": 11,
   "metadata": {},
   "outputs": [],
   "source": [
    "def convert_row_to_json_example(df, i):\n",
    "    loc = df.iloc[i].to_dict()\n",
    "    content = loc[\"content\"].replace(\"\\n\", \" \")\n",
    "    spans = [tuple(it.tolist()) for it in loc[\"trigger_words\"]]\n",
    "    techniques = loc[\"techniques\"]\n",
    "\n",
    "    return {\"inputs\": [str(techniques), str(spans)], \"outputs\": [content]}\n",
    "\n",
    "def convert_df_to_json_example(df):\n",
    "    return [convert_row_to_json_example(df, i) for i in range(len(df))]\n",
    "\n",
    "def save_examples_json(path, df):\n",
    "    with open(path, \"w\", encoding=\"utf8\") as f:\n",
    "        json.dump(convert_df_to_json_example(df), f, ensure_ascii=False)"
   ]
  },
  {
   "cell_type": "code",
   "execution_count": 12,
   "metadata": {},
   "outputs": [],
   "source": [
    "save_examples_json(UA_PROMPTS_FOLDER / \"generate-data-examples.json\", df_ua)"
   ]
  },
  {
   "cell_type": "code",
   "execution_count": 13,
   "metadata": {},
   "outputs": [],
   "source": [
    "save_examples_json(RU_PROMPTS_FOLDER / \"generate-data-examples.json\", df_ru)"
   ]
  },
  {
   "cell_type": "markdown",
   "metadata": {},
   "source": [
    "8. Create DS for fine tunning"
   ]
  },
  {
   "cell_type": "code",
   "execution_count": 14,
   "metadata": {},
   "outputs": [],
   "source": [
    "def convert_row_to_json_ds(df, i, instruction):\n",
    "    loc = df.iloc[i].to_dict()\n",
    "    content = loc[\"content\"].replace(\"\\n\", \" \")\n",
    "    spans = [tuple(it.tolist()) for it in loc[\"trigger_words\"]]\n",
    "    techniques = loc[\"techniques\"]\n",
    "    input_text = f\"{techniques} ## {spans}\"\n",
    "\n",
    "    return {\n",
    "        \"systemInstruction\": {\"role\": \"user\", \"parts\": [{\"text\": instruction}]},\n",
    "        \"contents\": [\n",
    "            {\n",
    "                \"role\": \"user\",\n",
    "                \"parts\": [\n",
    "                    {\n",
    "                        \"text\": input_text,\n",
    "                    }\n",
    "                ],\n",
    "            },\n",
    "            {\n",
    "                \"role\": \"model\",\n",
    "                \"parts\": [\n",
    "                    {\n",
    "                        \"text\": content,\n",
    "                    }\n",
    "                ],\n",
    "            },\n",
    "        ],\n",
    "    }\n",
    "\n",
    "\n",
    "def convert_df_to_json_ds(df, instruction):\n",
    "    return [convert_row_to_json_ds(df, i, instruction) for i in range(len(df))]\n",
    "\n",
    "\n",
    "def save_ds_json(path, df, instruction):\n",
    "    with open(path, \"w\", encoding=\"utf8\") as f:\n",
    "        for it in convert_df_to_json_ds(df, instruction):\n",
    "            json.dump(it, f, ensure_ascii=False)\n",
    "            f.write(\"\\n\")"
   ]
  },
  {
   "cell_type": "code",
   "execution_count": 15,
   "metadata": {},
   "outputs": [],
   "source": [
    "instruction_ua = f\"\"\"\\\n",
    "Згенеруйте розмічені дані для класифікації токенів в задачі пошуку маніпуляцій у постах соціальних мереж.\n",
    "Формат питання - $techniques ## $spans де:\n",
    "techniques - Список маніпуляцій використаних у тексті посту. Можливі значення: 'appeal_to_fear', 'bandwagon', 'cherry_picking', 'cliche', 'euphoria', 'fud', 'glittering_generalities', 'loaded_language', 'straw_man', 'whataboutism'\n",
    "spans - Список індексних діапазонів символів маніпуляції.\n",
    "Відповідь - Текст посту чи коментаря (максимум {max_content_length} символів) з соціальної мережі Телеграм.\"\"\"\n",
    "\n",
    "save_ds_json(UA_PROMPTS_FOLDER / \"generate-data-ds.jsonl\", df_ua, instruction_ua)"
   ]
  },
  {
   "cell_type": "code",
   "execution_count": 16,
   "metadata": {},
   "outputs": [],
   "source": [
    "instruction_ru = f\"\"\"\\\n",
    "Сгенерируйте размеченные данные для классификации токенов в задаче поиска манипуляций в постах социальных сетей.\n",
    "Формат вопроса - $techniques ## $spans где:\n",
    "techniques – Список манипуляций использованных в тексте поста. Возможные значения: 'appeal_to_fear', 'bandwagon', 'cherry_picking', 'cliche', 'euphoria', 'fud', 'glittering_generalities', 'loaded_language', 'straw_man', 'whataboutism'\n",
    "spans – список индексных диапазонов символов манипуляции.\n",
    "Ответ – текст поста или комментария (максимум {max_content_length} символов) из социальной сети телеграмм.\"\"\"\n",
    "\n",
    "save_ds_json(RU_PROMPTS_FOLDER / \"generate-data-ds.jsonl\", df_ru, instruction_ru)"
   ]
  }
 ],
 "metadata": {
  "kernelspec": {
   "display_name": ".venv",
   "language": "python",
   "name": "python3"
  },
  "language_info": {
   "codemirror_mode": {
    "name": "ipython",
    "version": 3
   },
   "file_extension": ".py",
   "mimetype": "text/x-python",
   "name": "python",
   "nbconvert_exporter": "python",
   "pygments_lexer": "ipython3",
   "version": "3.11.10"
  }
 },
 "nbformat": 4,
 "nbformat_minor": 2
}
