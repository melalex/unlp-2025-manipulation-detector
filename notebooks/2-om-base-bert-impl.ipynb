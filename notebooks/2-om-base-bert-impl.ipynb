{
 "cells": [
  {
   "cell_type": "markdown",
   "metadata": {},
   "source": [
    "# Base BERT implementation"
   ]
  },
  {
   "cell_type": "markdown",
   "metadata": {},
   "source": [
    "1. Import dependencies"
   ]
  },
  {
   "cell_type": "code",
   "execution_count": 1,
   "metadata": {},
   "outputs": [],
   "source": [
    "import random\n",
    "import time\n",
    "\n",
    "import numpy as np\n",
    "import torch\n",
    "import os\n",
    "\n",
    "from transformers import (\n",
    "    AutoTokenizer,\n",
    "    DataCollatorForTokenClassification,\n",
    "    AutoModelForTokenClassification,\n",
    "    TrainingArguments,\n",
    "    Trainer,\n",
    "    pipeline,\n",
    ")\n",
    "\n",
    "from src.util.torch_device import resolve_torch_device\n",
    "from src.data.span_detection_ds import ManipulationDetectionDataset\n",
    "from src.visualization.plot import plot_loss, plot_model_progress, plot_eval_loss\n",
    "from src.definitions import (\n",
    "    MODELS_FOLDER,\n",
    "    RAW_DATA_FOLDER,\n",
    "    REPORTS_FOLDER,\n",
    "    PROCESSED_DATA_FOLDER,\n",
    ")\n",
    "from src.visualization.ner import visualize_as_markdown_and_save\n",
    "from src.visualization.reporting import EvaluatingReport\n",
    "from src.model.span_detection_metrics import compute_metrics"
   ]
  },
  {
   "cell_type": "markdown",
   "metadata": {},
   "source": [
    "2. Prepare Env"
   ]
  },
  {
   "cell_type": "code",
   "execution_count": 2,
   "metadata": {},
   "outputs": [],
   "source": [
    "random_seed = 42\n",
    "\n",
    "random.seed(random_seed)\n",
    "torch.manual_seed(random_seed)\n",
    "np.random.seed(random_seed)\n",
    "\n",
    "device = resolve_torch_device()\n",
    "\n",
    "model_checkpoint = \"distilbert/distilbert-base-multilingual-cased\"\n",
    "\n",
    "epoch_time = int(time.time())\n",
    "\n",
    "os.environ[\"PYTORCH_MPS_HIGH_WATERMARK_RATIO\"] = \"0.0\""
   ]
  },
  {
   "cell_type": "markdown",
   "metadata": {},
   "source": [
    "3. Load dataset"
   ]
  },
  {
   "cell_type": "code",
   "execution_count": 3,
   "metadata": {},
   "outputs": [],
   "source": [
    "tokenizer = AutoTokenizer.from_pretrained(model_checkpoint)\n",
    "\n",
    "dataset_blueprint = ManipulationDetectionDataset(\n",
    "    tokenizer=tokenizer,\n",
    "    raw_path=RAW_DATA_FOLDER / \"span-detection.parquet\",\n",
    "    processed_path=PROCESSED_DATA_FOLDER / \"span-detection\",\n",
    "    seed=random_seed,\n",
    ")\n",
    "\n",
    "dataset = dataset_blueprint.read()"
   ]
  },
  {
   "cell_type": "markdown",
   "metadata": {},
   "source": [
    "3. Prepare model"
   ]
  },
  {
   "cell_type": "code",
   "execution_count": null,
   "metadata": {},
   "outputs": [],
   "source": [
    "model = AutoModelForTokenClassification.from_pretrained(\n",
    "    model_checkpoint,\n",
    "    num_labels=len(dataset_blueprint.label2id),\n",
    "    id2label=dataset_blueprint.id2label,\n",
    "    label2id=dataset_blueprint.label2id,\n",
    "    dropout=0.2,\n",
    ").to(device)\n",
    "\n",
    "data_collator = DataCollatorForTokenClassification(tokenizer)\n",
    "\n",
    "training_args = TrainingArguments(\n",
    "    output_dir=MODELS_FOLDER / \"manipulation-detector-bert-ner-checkpoint\",\n",
    "    learning_rate=2e-5,\n",
    "    per_device_train_batch_size=16,\n",
    "    per_device_eval_batch_size=8,\n",
    "    num_train_epochs=25,\n",
    "    weight_decay=0.3,\n",
    "    eval_strategy=\"epoch\",\n",
    "    save_strategy=\"epoch\",\n",
    "    load_best_model_at_end=True,\n",
    "    seed=random_seed,\n",
    "    logging_steps=200,\n",
    "    auto_find_batch_size=True,\n",
    "    torch_empty_cache_steps=1000,\n",
    "    metric_for_best_model=\"f1\",\n",
    "    greater_is_better=True, \n",
    ")\n",
    "\n",
    "trainer = Trainer(\n",
    "    model=model,\n",
    "    args=training_args,\n",
    "    train_dataset=dataset[\"train\"],\n",
    "    eval_dataset=dataset[\"test\"],\n",
    "    processing_class=tokenizer,\n",
    "    data_collator=data_collator,\n",
    "    compute_metrics=compute_metrics(dataset_blueprint),\n",
    ")"
   ]
  },
  {
   "cell_type": "markdown",
   "metadata": {},
   "source": [
    "4. Train model"
   ]
  },
  {
   "cell_type": "code",
   "execution_count": null,
   "metadata": {},
   "outputs": [],
   "source": [
    "trainer.train()"
   ]
  },
  {
   "cell_type": "code",
   "execution_count": null,
   "metadata": {},
   "outputs": [],
   "source": [
    "evaluation_feedback = trainer.evaluate()"
   ]
  },
  {
   "cell_type": "code",
   "execution_count": null,
   "metadata": {},
   "outputs": [],
   "source": [
    "report_file = REPORTS_FOLDER / \"span-detection\" / \"train-report.csv\"\n",
    "\n",
    "report = EvaluatingReport(report_file)\n",
    "\n",
    "report.write_to_report(evaluation_feedback, epoch_time)\n",
    "\n",
    "full_report = report.read_report()\n",
    "\n",
    "full_report.tail(1)"
   ]
  },
  {
   "cell_type": "code",
   "execution_count": null,
   "metadata": {},
   "outputs": [],
   "source": [
    "plot_loss(trainer)"
   ]
  },
  {
   "cell_type": "code",
   "execution_count": null,
   "metadata": {},
   "outputs": [],
   "source": [
    "plot_eval_loss(trainer)"
   ]
  },
  {
   "cell_type": "code",
   "execution_count": null,
   "metadata": {},
   "outputs": [],
   "source": [
    "plot_model_progress(full_report)"
   ]
  },
  {
   "cell_type": "markdown",
   "metadata": {},
   "source": [
    "5. Save weights"
   ]
  },
  {
   "cell_type": "code",
   "execution_count": null,
   "metadata": {},
   "outputs": [],
   "source": [
    "trainer.save_model(MODELS_FOLDER / \"manipulation-detector-bert-ner-model\")\n",
    "tokenizer.save_pretrained(MODELS_FOLDER / \"manipulation-detector-bert-ner-model\")"
   ]
  },
  {
   "cell_type": "markdown",
   "metadata": {},
   "source": [
    "6. Test"
   ]
  },
  {
   "cell_type": "code",
   "execution_count": 12,
   "metadata": {},
   "outputs": [],
   "source": [
    "model = AutoModelForTokenClassification.from_pretrained(\n",
    "    MODELS_FOLDER / \"manipulation-detector-bert-ner-model\"\n",
    ")\n",
    "tokenizer = AutoTokenizer.from_pretrained(\n",
    "    MODELS_FOLDER / \"manipulation-detector-bert-ner-model\"\n",
    ")"
   ]
  },
  {
   "cell_type": "code",
   "execution_count": null,
   "metadata": {},
   "outputs": [],
   "source": [
    "test_pipeline = pipeline(\"ner\", model=model, tokenizer=tokenizer)\n",
    "\n",
    "test_result = test_pipeline(dataset[\"test\"][\"content\"])"
   ]
  },
  {
   "cell_type": "code",
   "execution_count": null,
   "metadata": {},
   "outputs": [],
   "source": [
    "visualize_as_markdown_and_save(\n",
    "    dataset[\"test\"],\n",
    "    test_result,\n",
    "    tokenizer,\n",
    "    REPORTS_FOLDER / \"span-detection\" / \"test-visualization\" / f\"test-{epoch_time}.md\",\n",
    ")"
   ]
  },
  {
   "cell_type": "code",
   "execution_count": 15,
   "metadata": {},
   "outputs": [],
   "source": [
    "# [it for it in test_result if len(it) > 0]"
   ]
  },
  {
   "cell_type": "code",
   "execution_count": 16,
   "metadata": {},
   "outputs": [],
   "source": [
    "# test = dataset[\"test\"][1]\n",
    "\n",
    "# print(test[\"content\"][0:133])\n",
    "# print(test[\"content\"][135:250])\n",
    "# print()\n",
    "# print(test[\"content\"])\n",
    "# print(test[\"labels\"])"
   ]
  },
  {
   "cell_type": "code",
   "execution_count": 17,
   "metadata": {},
   "outputs": [],
   "source": [
    "# dataset[\"train\"][1]"
   ]
  },
  {
   "cell_type": "code",
   "execution_count": 18,
   "metadata": {},
   "outputs": [],
   "source": [
    "# content = dataset[\"train\"][1][\"content\"]\n",
    "# trigger_words = dataset[\"train\"][1][\"trigger_words\"]\n",
    "\n",
    "# for it in trigger_words:\n",
    "#     print(content[it[0]: it[1]])"
   ]
  },
  {
   "cell_type": "code",
   "execution_count": 19,
   "metadata": {},
   "outputs": [],
   "source": [
    "# labels = dataset[\"train\"][1]['labels']\n",
    "# input_ids = dataset[\"train\"][1][\"input_ids\"]\n",
    "\n",
    "# sub_str = []\n",
    "\n",
    "# for i in range(len(labels)):\n",
    "#     if labels[i] == 1:\n",
    "#         sub_str.append(input_ids[i])\n",
    "\n",
    "# tokenizer.decode(sub_str)"
   ]
  },
  {
   "cell_type": "code",
   "execution_count": 20,
   "metadata": {},
   "outputs": [],
   "source": [
    "# tokenizer.convert_ids_to_tokens(dataset[\"test\"][1][\"input_ids\"])"
   ]
  },
  {
   "cell_type": "code",
   "execution_count": 21,
   "metadata": {},
   "outputs": [],
   "source": [
    "# tokenizer.decode(dataset[\"train\"][1][\"input_ids\"])"
   ]
  },
  {
   "cell_type": "code",
   "execution_count": 22,
   "metadata": {},
   "outputs": [],
   "source": [
    "# from datasets import ClassLabel, Sequence\n",
    "\n",
    "# dataset[\"train\"].features[\"labels\"] = Sequence(feature=ClassLabel(names=[\"O\", \"I-MANIPULATION\"]), length=-1, id=None)\n",
    "\n",
    "# dataset[\"train\"].features[\"labels\"]"
   ]
  },
  {
   "cell_type": "code",
   "execution_count": 23,
   "metadata": {},
   "outputs": [],
   "source": [
    "# len(dataset[\"train\"]) / 16"
   ]
  }
 ],
 "metadata": {
  "kernelspec": {
   "display_name": ".venv",
   "language": "python",
   "name": "python3"
  },
  "language_info": {
   "codemirror_mode": {
    "name": "ipython",
    "version": 3
   },
   "file_extension": ".py",
   "mimetype": "text/x-python",
   "name": "python",
   "nbconvert_exporter": "python",
   "pygments_lexer": "ipython3",
   "version": "3.11.10"
  }
 },
 "nbformat": 4,
 "nbformat_minor": 2
}
