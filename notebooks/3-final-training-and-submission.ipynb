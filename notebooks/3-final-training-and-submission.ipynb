{
 "cells": [
  {
   "cell_type": "markdown",
   "metadata": {},
   "source": [
    "# Base BERT implementation"
   ]
  },
  {
   "cell_type": "markdown",
   "metadata": {},
   "source": [
    "1. Import dependencies"
   ]
  },
  {
   "cell_type": "code",
   "execution_count": 1,
   "metadata": {},
   "outputs": [],
   "source": [
    "import random\n",
    "import time\n",
    "\n",
    "import numpy as np\n",
    "import torch\n",
    "import os\n",
    "\n",
    "from transformers import (\n",
    "    AutoTokenizer,\n",
    "    DataCollatorForTokenClassification,\n",
    "    AutoModelForTokenClassification,\n",
    "    TrainingArguments,\n",
    "    Trainer,\n",
    "    pipeline,\n",
    ")\n",
    "\n",
    "import sys\n",
    "\n",
    "sys.path.append('..')\n",
    "from src.util.torch_device import resolve_torch_device\n",
    "from src.data.span_detection_ds import ManipulationDetectionDataset\n",
    "from src.definitions import (\n",
    "    MODELS_FOLDER,\n",
    "    RAW_DATA_FOLDER,\n",
    "    REPORTS_FOLDER,\n",
    "    PROCESSED_DATA_FOLDER,\n",
    ")\n",
    "from src.model.span_detection_metrics import compute_metrics"
   ]
  },
  {
   "cell_type": "markdown",
   "metadata": {},
   "source": [
    "2. Prepare Env"
   ]
  },
  {
   "cell_type": "code",
   "execution_count": 2,
   "metadata": {},
   "outputs": [],
   "source": [
    "random_seed = 42\n",
    "\n",
    "random.seed(random_seed)\n",
    "torch.manual_seed(random_seed)\n",
    "np.random.seed(random_seed)\n",
    "\n",
    "device = resolve_torch_device()\n",
    "\n",
    "model_checkpoint = 'EvanD/xlm-roberta-base-ukrainian-ner-ukrner'\n",
    "\n",
    "epoch_time = time.strftime(\"%Y-%m-%d_%H-%M-%S\", time.localtime())"
   ]
  },
  {
   "cell_type": "markdown",
   "metadata": {},
   "source": [
    "3. Load dataset"
   ]
  },
  {
   "cell_type": "code",
   "execution_count": null,
   "metadata": {},
   "outputs": [],
   "source": [
    "tokenizer = AutoTokenizer.from_pretrained(model_checkpoint, model_max_length=512)\n",
    "\n",
    "dataset_blueprint = ManipulationDetectionDataset(\n",
    "    tokenizer=tokenizer,\n",
    "    raw_path=RAW_DATA_FOLDER / \"span-detection.parquet\",\n",
    "    processed_path=PROCESSED_DATA_FOLDER / \"span-detection\",\n",
    "    seed=random_seed,\n",
    "    do_split=False,\n",
    "    exclude_tail=False,\n",
    ")\n",
    "\n",
    "dataset = dataset_blueprint.read()\n",
    "dataset"
   ]
  },
  {
   "cell_type": "markdown",
   "metadata": {},
   "source": [
    "3. Prepare model"
   ]
  },
  {
   "cell_type": "code",
   "execution_count": 4,
   "metadata": {},
   "outputs": [],
   "source": [
    "run_name = f\"{model_checkpoint.split('/')[-1]}-{epoch_time}\"\n",
    "model_path = MODELS_FOLDER / run_name\n",
    "model_path.mkdir(parents=True, exist_ok=True)"
   ]
  },
  {
   "cell_type": "code",
   "execution_count": 5,
   "metadata": {},
   "outputs": [
    {
     "name": "stderr",
     "output_type": "stream",
     "text": [
      "Some weights of XLMRobertaForTokenClassification were not initialized from the model checkpoint at EvanD/xlm-roberta-base-ukrainian-ner-ukrner and are newly initialized because the shapes did not match:\n",
      "- classifier.weight: found shape torch.Size([9, 768]) in the checkpoint and torch.Size([2, 768]) in the model instantiated\n",
      "- classifier.bias: found shape torch.Size([9]) in the checkpoint and torch.Size([2]) in the model instantiated\n",
      "You should probably TRAIN this model on a down-stream task to be able to use it for predictions and inference.\n"
     ]
    }
   ],
   "source": [
    "model = AutoModelForTokenClassification.from_pretrained(\n",
    "    model_checkpoint,\n",
    "    num_labels=len(dataset_blueprint.label2id),\n",
    "    id2label=dataset_blueprint.id2label,\n",
    "    label2id=dataset_blueprint.label2id,\n",
    "    #dropout=0.2,\n",
    "    #hidden_dropout_prob=0.15,\n",
    "    #attention_probs_dropout_prob=0.15,\n",
    "    ignore_mismatched_sizes=True\n",
    ").to(device)"
   ]
  },
  {
   "cell_type": "markdown",
   "metadata": {},
   "source": [
    "4. Train model"
   ]
  },
  {
   "cell_type": "markdown",
   "metadata": {},
   "source": [
    "Freeze main layers and train only the classifier"
   ]
  },
  {
   "cell_type": "code",
   "execution_count": 6,
   "metadata": {},
   "outputs": [],
   "source": [
    "training_args = TrainingArguments(\n",
    "    output_dir=model_path,\n",
    "    learning_rate=3e-3,\n",
    "    per_device_train_batch_size=16,\n",
    "    per_device_eval_batch_size=16,\n",
    "    num_train_epochs=1,\n",
    "    weight_decay=0.01,\n",
    "    eval_strategy=\"epoch\",\n",
    "    save_strategy=\"no\",\n",
    "    seed=random_seed,\n",
    "    logging_strategy=\"epoch\",\n",
    "    run_name=run_name,\n",
    ")\n",
    "\n",
    "data_collator = DataCollatorForTokenClassification(tokenizer)\n",
    "\n",
    "trainer = Trainer(\n",
    "    model=model,\n",
    "    args=training_args,\n",
    "    train_dataset=dataset,\n",
    "    eval_dataset=dataset,\n",
    "    processing_class=tokenizer,\n",
    "    data_collator=data_collator,\n",
    "    compute_metrics=compute_metrics(dataset_blueprint),\n",
    ")"
   ]
  },
  {
   "cell_type": "code",
   "execution_count": 7,
   "metadata": {},
   "outputs": [],
   "source": [
    "for name, layer in model.named_parameters():\n",
    "    if 'classifier' not in name:\n",
    "        layer.requires_grad = False"
   ]
  },
  {
   "cell_type": "code",
   "execution_count": 8,
   "metadata": {},
   "outputs": [
    {
     "data": {
      "text/html": [
       "\n",
       "    <div>\n",
       "      \n",
       "      <progress value='239' max='239' style='width:300px; height:20px; vertical-align: middle;'></progress>\n",
       "      [239/239 00:54, Epoch 1/1]\n",
       "    </div>\n",
       "    <table border=\"1\" class=\"dataframe\">\n",
       "  <thead>\n",
       " <tr style=\"text-align: left;\">\n",
       "      <th>Epoch</th>\n",
       "      <th>Training Loss</th>\n",
       "      <th>Validation Loss</th>\n",
       "      <th>Token F1</th>\n",
       "      <th>Token Precision</th>\n",
       "      <th>Token Recall</th>\n",
       "      <th>Span F1</th>\n",
       "      <th>Span Precision</th>\n",
       "      <th>Span Recall</th>\n",
       "      <th>Accuracy</th>\n",
       "    </tr>\n",
       "  </thead>\n",
       "  <tbody>\n",
       "    <tr>\n",
       "      <td>1</td>\n",
       "      <td>0.546300</td>\n",
       "      <td>0.499967</td>\n",
       "      <td>0.045851</td>\n",
       "      <td>0.680233</td>\n",
       "      <td>0.023725</td>\n",
       "      <td>0.009222</td>\n",
       "      <td>0.018028</td>\n",
       "      <td>0.006196</td>\n",
       "      <td>0.752977</td>\n",
       "    </tr>\n",
       "  </tbody>\n",
       "</table><p>"
      ],
      "text/plain": [
       "<IPython.core.display.HTML object>"
      ]
     },
     "metadata": {},
     "output_type": "display_data"
    },
    {
     "data": {
      "text/plain": [
       "TrainOutput(global_step=239, training_loss=0.5463099778945476, metrics={'train_runtime': 54.1954, 'train_samples_per_second': 70.523, 'train_steps_per_second': 4.41, 'total_flos': 849874846117032.0, 'train_loss': 0.5463099778945476, 'epoch': 1.0})"
      ]
     },
     "execution_count": 8,
     "metadata": {},
     "output_type": "execute_result"
    }
   ],
   "source": [
    "trainer.train()"
   ]
  },
  {
   "cell_type": "markdown",
   "metadata": {},
   "source": [
    "Unfreeze all layers and train the whole model"
   ]
  },
  {
   "cell_type": "code",
   "execution_count": 9,
   "metadata": {},
   "outputs": [],
   "source": [
    "for name, layer in model.named_parameters():\n",
    "    layer.requires_grad = True"
   ]
  },
  {
   "cell_type": "code",
   "execution_count": 10,
   "metadata": {},
   "outputs": [],
   "source": [
    "training_args = TrainingArguments(\n",
    "    output_dir=model_path,\n",
    "    learning_rate=2e-5,\n",
    "    per_device_train_batch_size=16,\n",
    "    per_device_eval_batch_size=16,\n",
    "    num_train_epochs=3,\n",
    "    weight_decay=0.01,\n",
    "    eval_strategy=\"epoch\",\n",
    "    #save_strategy=\"epoch\",\n",
    "    save_strategy=\"no\",\n",
    "    seed=random_seed,\n",
    "    logging_strategy=\"epoch\",\n",
    "    run_name=run_name,\n",
    "    #metric_for_best_model=\"token_f1\",\n",
    "    #greater_is_better=True,\n",
    "    #load_best_model_at_end=True,\n",
    ")\n",
    "\n",
    "data_collator = DataCollatorForTokenClassification(tokenizer)\n",
    "\n",
    "trainer = Trainer(\n",
    "    model=model,\n",
    "    args=training_args,\n",
    "    train_dataset=dataset,\n",
    "    eval_dataset=dataset,\n",
    "    processing_class=tokenizer,\n",
    "    data_collator=data_collator,\n",
    "    compute_metrics=compute_metrics(dataset_blueprint),\n",
    ")"
   ]
  },
  {
   "cell_type": "code",
   "execution_count": 21,
   "metadata": {},
   "outputs": [],
   "source": [
    "torch.cuda.empty_cache()"
   ]
  },
  {
   "cell_type": "code",
   "execution_count": 12,
   "metadata": {},
   "outputs": [
    {
     "data": {
      "text/html": [
       "\n",
       "    <div>\n",
       "      \n",
       "      <progress value='717' max='717' style='width:300px; height:20px; vertical-align: middle;'></progress>\n",
       "      [717/717 06:39, Epoch 3/3]\n",
       "    </div>\n",
       "    <table border=\"1\" class=\"dataframe\">\n",
       "  <thead>\n",
       " <tr style=\"text-align: left;\">\n",
       "      <th>Epoch</th>\n",
       "      <th>Training Loss</th>\n",
       "      <th>Validation Loss</th>\n",
       "      <th>Token F1</th>\n",
       "      <th>Token Precision</th>\n",
       "      <th>Token Recall</th>\n",
       "      <th>Span F1</th>\n",
       "      <th>Span Precision</th>\n",
       "      <th>Span Recall</th>\n",
       "      <th>Accuracy</th>\n",
       "    </tr>\n",
       "  </thead>\n",
       "  <tbody>\n",
       "    <tr>\n",
       "      <td>1</td>\n",
       "      <td>0.455500</td>\n",
       "      <td>0.387208</td>\n",
       "      <td>0.493935</td>\n",
       "      <td>0.770587</td>\n",
       "      <td>0.363451</td>\n",
       "      <td>0.059082</td>\n",
       "      <td>0.050928</td>\n",
       "      <td>0.070344</td>\n",
       "      <td>0.813686</td>\n",
       "    </tr>\n",
       "    <tr>\n",
       "      <td>2</td>\n",
       "      <td>0.389800</td>\n",
       "      <td>0.352237</td>\n",
       "      <td>0.579631</td>\n",
       "      <td>0.798526</td>\n",
       "      <td>0.454925</td>\n",
       "      <td>0.076116</td>\n",
       "      <td>0.066461</td>\n",
       "      <td>0.089054</td>\n",
       "      <td>0.834925</td>\n",
       "    </tr>\n",
       "    <tr>\n",
       "      <td>3</td>\n",
       "      <td>0.345600</td>\n",
       "      <td>0.320175</td>\n",
       "      <td>0.666839</td>\n",
       "      <td>0.775854</td>\n",
       "      <td>0.584685</td>\n",
       "      <td>0.093991</td>\n",
       "      <td>0.081876</td>\n",
       "      <td>0.110315</td>\n",
       "      <td>0.853844</td>\n",
       "    </tr>\n",
       "  </tbody>\n",
       "</table><p>"
      ],
      "text/plain": [
       "<IPython.core.display.HTML object>"
      ]
     },
     "metadata": {},
     "output_type": "display_data"
    },
    {
     "data": {
      "text/plain": [
       "TrainOutput(global_step=717, training_loss=0.39694259622273254, metrics={'train_runtime': 399.3591, 'train_samples_per_second': 28.711, 'train_steps_per_second': 1.795, 'total_flos': 2545105941702384.0, 'train_loss': 0.39694259622273254, 'epoch': 3.0})"
      ]
     },
     "execution_count": 12,
     "metadata": {},
     "output_type": "execute_result"
    }
   ],
   "source": [
    "trainer.train()"
   ]
  },
  {
   "cell_type": "markdown",
   "metadata": {},
   "source": [
    "5. Save weights"
   ]
  },
  {
   "cell_type": "code",
   "execution_count": 20,
   "metadata": {},
   "outputs": [
    {
     "data": {
      "text/plain": [
       "('c:\\\\Users\\\\Vitalii\\\\Desktop\\\\5_course\\\\UNLP\\\\unlp-2025-manipulation-detector\\\\notebooks\\\\..\\\\models\\\\xlm-roberta-base-ukrainian-ner-ukrner-2025-03-13_15-43-56no_exclude_tail\\\\tokenizer_config.json',\n",
       " 'c:\\\\Users\\\\Vitalii\\\\Desktop\\\\5_course\\\\UNLP\\\\unlp-2025-manipulation-detector\\\\notebooks\\\\..\\\\models\\\\xlm-roberta-base-ukrainian-ner-ukrner-2025-03-13_15-43-56no_exclude_tail\\\\special_tokens_map.json',\n",
       " 'c:\\\\Users\\\\Vitalii\\\\Desktop\\\\5_course\\\\UNLP\\\\unlp-2025-manipulation-detector\\\\notebooks\\\\..\\\\models\\\\xlm-roberta-base-ukrainian-ner-ukrner-2025-03-13_15-43-56no_exclude_tail\\\\sentencepiece.bpe.model',\n",
       " 'c:\\\\Users\\\\Vitalii\\\\Desktop\\\\5_course\\\\UNLP\\\\unlp-2025-manipulation-detector\\\\notebooks\\\\..\\\\models\\\\xlm-roberta-base-ukrainian-ner-ukrner-2025-03-13_15-43-56no_exclude_tail\\\\added_tokens.json',\n",
       " 'c:\\\\Users\\\\Vitalii\\\\Desktop\\\\5_course\\\\UNLP\\\\unlp-2025-manipulation-detector\\\\notebooks\\\\..\\\\models\\\\xlm-roberta-base-ukrainian-ner-ukrner-2025-03-13_15-43-56no_exclude_tail\\\\tokenizer.json')"
      ]
     },
     "execution_count": 20,
     "metadata": {},
     "output_type": "execute_result"
    }
   ],
   "source": [
    "trainer.save_model(MODELS_FOLDER / (run_name+'no_exclude_tail'))\n",
    "tokenizer.save_pretrained(MODELS_FOLDER / (run_name+'no_exclude_tail'))"
   ]
  },
  {
   "cell_type": "markdown",
   "metadata": {},
   "source": [
    "6. Submission generation"
   ]
  },
  {
   "cell_type": "code",
   "execution_count": 3,
   "metadata": {},
   "outputs": [],
   "source": [
    "tokenizer = AutoTokenizer.from_pretrained(\n",
    "    MODELS_FOLDER / 'xlm-roberta-base-ukrainian-ner-ukrner-2025-03-13_15-43-56no_exclude_tail',\n",
    ")\n",
    "model = AutoModelForTokenClassification.from_pretrained(\n",
    "    MODELS_FOLDER / 'xlm-roberta-base-ukrainian-ner-ukrner-2025-03-13_15-43-56no_exclude_tail',\n",
    ").to(device)"
   ]
  },
  {
   "cell_type": "code",
   "execution_count": 23,
   "metadata": {},
   "outputs": [
    {
     "data": {
      "text/html": [
       "<div>\n",
       "<style scoped>\n",
       "    .dataframe tbody tr th:only-of-type {\n",
       "        vertical-align: middle;\n",
       "    }\n",
       "\n",
       "    .dataframe tbody tr th {\n",
       "        vertical-align: top;\n",
       "    }\n",
       "\n",
       "    .dataframe thead th {\n",
       "        text-align: right;\n",
       "    }\n",
       "</style>\n",
       "<table border=\"1\" class=\"dataframe\">\n",
       "  <thead>\n",
       "    <tr style=\"text-align: right;\">\n",
       "      <th></th>\n",
       "      <th>id</th>\n",
       "      <th>content</th>\n",
       "    </tr>\n",
       "  </thead>\n",
       "  <tbody>\n",
       "    <tr>\n",
       "      <th>0</th>\n",
       "      <td>521cd2e8-dd9f-42c4-98ba-c0c8890ff1ba</td>\n",
       "      <td>Они просрали нашу технику, положили кучу людей...</td>\n",
       "    </tr>\n",
       "    <tr>\n",
       "      <th>1</th>\n",
       "      <td>9b2a61e4-d14e-4ff7-b304-e73d720319bf</td>\n",
       "      <td>❗️\\nКитай предлагает отдать оккупированные тер...</td>\n",
       "    </tr>\n",
       "    <tr>\n",
       "      <th>2</th>\n",
       "      <td>f0f1c236-80a8-4d25-b30c-a420a39be632</td>\n",
       "      <td>Сегодня будет ровно 6 месяцев с этого обещания...</td>\n",
       "    </tr>\n",
       "    <tr>\n",
       "      <th>3</th>\n",
       "      <td>31ea05ba-2c2b-4b84-aba7-f3cf6841b204</td>\n",
       "      <td>⚡️\\nІзраїль вперше у світі збив балістичну рак...</td>\n",
       "    </tr>\n",
       "    <tr>\n",
       "      <th>4</th>\n",
       "      <td>a79e13ec-6d9a-40b5-b54c-7f4f743a7525</td>\n",
       "      <td>Склав невелику навчально-методичну таблицю на ...</td>\n",
       "    </tr>\n",
       "  </tbody>\n",
       "</table>\n",
       "</div>"
      ],
      "text/plain": [
       "                                     id  \\\n",
       "0  521cd2e8-dd9f-42c4-98ba-c0c8890ff1ba   \n",
       "1  9b2a61e4-d14e-4ff7-b304-e73d720319bf   \n",
       "2  f0f1c236-80a8-4d25-b30c-a420a39be632   \n",
       "3  31ea05ba-2c2b-4b84-aba7-f3cf6841b204   \n",
       "4  a79e13ec-6d9a-40b5-b54c-7f4f743a7525   \n",
       "\n",
       "                                             content  \n",
       "0  Они просрали нашу технику, положили кучу людей...  \n",
       "1  ❗️\\nКитай предлагает отдать оккупированные тер...  \n",
       "2  Сегодня будет ровно 6 месяцев с этого обещания...  \n",
       "3  ⚡️\\nІзраїль вперше у світі збив балістичну рак...  \n",
       "4  Склав невелику навчально-методичну таблицю на ...  "
      ]
     },
     "execution_count": 23,
     "metadata": {},
     "output_type": "execute_result"
    }
   ],
   "source": [
    "import pandas as pd\n",
    "submission_df = pd.read_csv(RAW_DATA_FOLDER / 'test.csv')\n",
    "submission_df.head()"
   ]
  },
  {
   "cell_type": "code",
   "execution_count": 24,
   "metadata": {},
   "outputs": [
    {
     "name": "stderr",
     "output_type": "stream",
     "text": [
      "Device set to use cuda:0\n"
     ]
    }
   ],
   "source": [
    "nlp = pipeline(\n",
    "    \"ner\",\n",
    "    model=model,\n",
    "    tokenizer=tokenizer,\n",
    "    aggregation_strategy=\"simple\",\n",
    ")"
   ]
  },
  {
   "cell_type": "code",
   "execution_count": 25,
   "metadata": {},
   "outputs": [
    {
     "name": "stderr",
     "output_type": "stream",
     "text": [
      "You seem to be using the pipelines sequentially on GPU. In order to maximize efficiency please use a dataset\n"
     ]
    }
   ],
   "source": [
    "test_spans = {}\n",
    "for i, row in submission_df.iterrows():\n",
    "    res = nlp(row['content'])\n",
    "    res_manipulation = [r for r in res if r['entity_group'] == 'MANIPULATION']\n",
    "    res_manipulation_spans = [(r['start'], r['end']) for r in res_manipulation]\n",
    "    test_spans[row['id']] = res_manipulation_spans"
   ]
  },
  {
   "cell_type": "code",
   "execution_count": 26,
   "metadata": {},
   "outputs": [],
   "source": [
    "test_spans_df = pd.DataFrame(test_spans.items(), columns=['id', 'trigger_words'])"
   ]
  },
  {
   "cell_type": "code",
   "execution_count": 28,
   "metadata": {},
   "outputs": [
    {
     "data": {
      "text/html": [
       "<div>\n",
       "<style scoped>\n",
       "    .dataframe tbody tr th:only-of-type {\n",
       "        vertical-align: middle;\n",
       "    }\n",
       "\n",
       "    .dataframe tbody tr th {\n",
       "        vertical-align: top;\n",
       "    }\n",
       "\n",
       "    .dataframe thead th {\n",
       "        text-align: right;\n",
       "    }\n",
       "</style>\n",
       "<table border=\"1\" class=\"dataframe\">\n",
       "  <thead>\n",
       "    <tr style=\"text-align: right;\">\n",
       "      <th></th>\n",
       "      <th>id</th>\n",
       "      <th>trigger_words</th>\n",
       "    </tr>\n",
       "  </thead>\n",
       "  <tbody>\n",
       "    <tr>\n",
       "      <th>0</th>\n",
       "      <td>521cd2e8-dd9f-42c4-98ba-c0c8890ff1ba</td>\n",
       "      <td>[(0, 253)]</td>\n",
       "    </tr>\n",
       "    <tr>\n",
       "      <th>1</th>\n",
       "      <td>9b2a61e4-d14e-4ff7-b304-e73d720319bf</td>\n",
       "      <td>[(374, 425)]</td>\n",
       "    </tr>\n",
       "    <tr>\n",
       "      <th>2</th>\n",
       "      <td>f0f1c236-80a8-4d25-b30c-a420a39be632</td>\n",
       "      <td>[(48, 75), (77, 126)]</td>\n",
       "    </tr>\n",
       "    <tr>\n",
       "      <th>3</th>\n",
       "      <td>31ea05ba-2c2b-4b84-aba7-f3cf6841b204</td>\n",
       "      <td>[]</td>\n",
       "    </tr>\n",
       "    <tr>\n",
       "      <th>4</th>\n",
       "      <td>a79e13ec-6d9a-40b5-b54c-7f4f743a7525</td>\n",
       "      <td>[(87, 102), (128, 133), (259, 289), (296, 308)]</td>\n",
       "    </tr>\n",
       "  </tbody>\n",
       "</table>\n",
       "</div>"
      ],
      "text/plain": [
       "                                     id  \\\n",
       "0  521cd2e8-dd9f-42c4-98ba-c0c8890ff1ba   \n",
       "1  9b2a61e4-d14e-4ff7-b304-e73d720319bf   \n",
       "2  f0f1c236-80a8-4d25-b30c-a420a39be632   \n",
       "3  31ea05ba-2c2b-4b84-aba7-f3cf6841b204   \n",
       "4  a79e13ec-6d9a-40b5-b54c-7f4f743a7525   \n",
       "\n",
       "                                     trigger_words  \n",
       "0                                       [(0, 253)]  \n",
       "1                                     [(374, 425)]  \n",
       "2                            [(48, 75), (77, 126)]  \n",
       "3                                               []  \n",
       "4  [(87, 102), (128, 133), (259, 289), (296, 308)]  "
      ]
     },
     "execution_count": 28,
     "metadata": {},
     "output_type": "execute_result"
    }
   ],
   "source": [
    "test_spans_df.head()"
   ]
  },
  {
   "cell_type": "code",
   "execution_count": 29,
   "metadata": {},
   "outputs": [],
   "source": [
    "test_spans_df.to_csv(REPORTS_FOLDER / 'xlm-roberta-base-ukrainian-ner-ukrner-2025-03-13_15-43-56no_exclude_tail.csv', index=False)"
   ]
  },
  {
   "cell_type": "markdown",
   "metadata": {},
   "source": [
    "7. Checking different langs"
   ]
  },
  {
   "cell_type": "code",
   "execution_count": null,
   "metadata": {},
   "outputs": [],
   "source": [
    "dataset_blueprint = ManipulationDetectionDataset(\n",
    "    tokenizer=tokenizer,\n",
    "    raw_path=RAW_DATA_FOLDER / \"span-detection.parquet\",\n",
    "    processed_path=PROCESSED_DATA_FOLDER / \"span-detection\",\n",
    "    seed=random_seed,\n",
    "    do_split=False,\n",
    "    exclude_tail=False,\n",
    "    lang='uk',\n",
    ")\n",
    "\n",
    "dataset = dataset_blueprint.read()\n",
    "dataset"
   ]
  },
  {
   "cell_type": "code",
   "execution_count": null,
   "metadata": {},
   "outputs": [
    {
     "data": {
      "text/html": [
       "\n",
       "    <div>\n",
       "      \n",
       "      <progress value='269' max='269' style='width:300px; height:20px; vertical-align: middle;'></progress>\n",
       "      [269/269 00:11]\n",
       "    </div>\n",
       "    "
      ],
      "text/plain": [
       "<IPython.core.display.HTML object>"
      ]
     },
     "metadata": {},
     "output_type": "display_data"
    },
    {
     "data": {
      "text/plain": [
       "{'eval_loss': 0.2686629891395569,\n",
       " 'eval_model_preparation_time': 0.002,\n",
       " 'eval_token_f1': 0.6598962938182513,\n",
       " 'eval_token_precision': 0.7716553034536716,\n",
       " 'eval_token_recall': 0.5764141097891881,\n",
       " 'eval_span_f1': 0.09599177800616648,\n",
       " 'eval_span_precision': 0.08348230246692885,\n",
       " 'eval_span_recall': 0.11291102514506769,\n",
       " 'eval_accuracy': 0.8786870621125424,\n",
       " 'eval_runtime': 15.711,\n",
       " 'eval_samples_per_second': 136.656,\n",
       " 'eval_steps_per_second': 17.122}"
      ]
     },
     "metadata": {},
     "output_type": "display_data"
    }
   ],
   "source": [
    "#uk\n",
    "data_collator = DataCollatorForTokenClassification(tokenizer)\n",
    "\n",
    "trainer = Trainer(\n",
    "    model=model,\n",
    "    train_dataset=dataset,\n",
    "    eval_dataset=dataset,\n",
    "    processing_class=tokenizer,\n",
    "    data_collator=data_collator,\n",
    "    compute_metrics=compute_metrics(dataset_blueprint),\n",
    ")\n",
    "\n",
    "trainer.evaluate()"
   ]
  },
  {
   "cell_type": "code",
   "execution_count": null,
   "metadata": {},
   "outputs": [],
   "source": [
    "dataset_blueprint = ManipulationDetectionDataset(\n",
    "    tokenizer=tokenizer,\n",
    "    raw_path=RAW_DATA_FOLDER / \"span-detection.parquet\",\n",
    "    processed_path=PROCESSED_DATA_FOLDER / \"span-detection\",\n",
    "    seed=random_seed,\n",
    "    do_split=False,\n",
    "    exclude_tail=False,\n",
    "    lang='ru',\n",
    ")\n",
    "\n",
    "dataset = dataset_blueprint.read()\n",
    "dataset"
   ]
  },
  {
   "cell_type": "code",
   "execution_count": null,
   "metadata": {},
   "outputs": [
    {
     "data": {
      "text/html": [
       "\n",
       "    <div>\n",
       "      \n",
       "      <progress value='210' max='210' style='width:300px; height:20px; vertical-align: middle;'></progress>\n",
       "      [210/210 00:08]\n",
       "    </div>\n",
       "    "
      ],
      "text/plain": [
       "<IPython.core.display.HTML object>"
      ]
     },
     "metadata": {},
     "output_type": "display_data"
    },
    {
     "data": {
      "text/plain": [
       "{'eval_loss': 0.3925739824771881,\n",
       " 'eval_model_preparation_time': 0.002,\n",
       " 'eval_token_f1': 0.673348968525462,\n",
       " 'eval_token_precision': 0.7797536673124827,\n",
       " 'eval_token_recall': 0.5924971739530482,\n",
       " 'eval_span_f1': 0.09196121363778544,\n",
       " 'eval_span_precision': 0.08024017467248909,\n",
       " 'eval_span_recall': 0.1076923076923077,\n",
       " 'eval_accuracy': 0.8173175326546894,\n",
       " 'eval_runtime': 11.727,\n",
       " 'eval_samples_per_second': 142.833,\n",
       " 'eval_steps_per_second': 17.907}"
      ]
     },
     "metadata": {},
     "output_type": "display_data"
    }
   ],
   "source": [
    "#ru\n",
    "data_collator = DataCollatorForTokenClassification(tokenizer)\n",
    "\n",
    "trainer = Trainer(\n",
    "    model=model,\n",
    "    train_dataset=dataset,\n",
    "    eval_dataset=dataset,\n",
    "    processing_class=tokenizer,\n",
    "    data_collator=data_collator,\n",
    "    compute_metrics=compute_metrics(dataset_blueprint),\n",
    ")\n",
    "\n",
    "trainer.evaluate()"
   ]
  }
 ],
 "metadata": {
  "kernelspec": {
   "display_name": "main",
   "language": "python",
   "name": "python3"
  },
  "language_info": {
   "codemirror_mode": {
    "name": "ipython",
    "version": 3
   },
   "file_extension": ".py",
   "mimetype": "text/x-python",
   "name": "python",
   "nbconvert_exporter": "python",
   "pygments_lexer": "ipython3",
   "version": "3.10.15"
  }
 },
 "nbformat": 4,
 "nbformat_minor": 2
}
