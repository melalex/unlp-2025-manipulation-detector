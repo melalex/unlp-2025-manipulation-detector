{
 "cells": [
  {
   "cell_type": "markdown",
   "metadata": {},
   "source": [
    "# Span Detection UA only implementation"
   ]
  },
  {
   "cell_type": "markdown",
   "metadata": {},
   "source": [
    "1. Import dependencies"
   ]
  },
  {
   "cell_type": "code",
   "execution_count": 1,
   "metadata": {},
   "outputs": [],
   "source": [
    "import csv\n",
    "import pandas as pd\n",
    "import multiprocess as mp\n",
    "import time\n",
    "\n",
    "from google import genai\n",
    "from google.genai import types\n",
    "from tqdm import tqdm\n",
    "\n",
    "from src.definitions import (\n",
    "    RAW_DATA_FOLDER,\n",
    ")"
   ]
  },
  {
   "cell_type": "markdown",
   "metadata": {},
   "source": [
    "2. Load dataset"
   ]
  },
  {
   "cell_type": "code",
   "execution_count": 2,
   "metadata": {},
   "outputs": [],
   "source": [
    "df = pd.read_parquet(RAW_DATA_FOLDER / \"span-detection.parquet\")\n",
    "df = df.query(\"manipulative == True\")"
   ]
  },
  {
   "cell_type": "markdown",
   "metadata": {},
   "source": [
    "3. Extract input"
   ]
  },
  {
   "cell_type": "code",
   "execution_count": 3,
   "metadata": {},
   "outputs": [],
   "source": [
    "def convert_to_input(df, i):\n",
    "    loc = df.iloc[i].to_dict()\n",
    "    spans = [tuple(it.tolist()) for it in loc[\"trigger_words\"]]\n",
    "    techniques = loc[\"techniques\"]\n",
    "    return (techniques, spans)"
   ]
  },
  {
   "cell_type": "code",
   "execution_count": 4,
   "metadata": {},
   "outputs": [],
   "source": [
    "inputs = [convert_to_input(df, i) for i in range(len(df))]"
   ]
  },
  {
   "cell_type": "code",
   "execution_count": 5,
   "metadata": {},
   "outputs": [],
   "source": [
    "def split(a, n):\n",
    "    k, m = divmod(len(a), n)\n",
    "    return [a[i * k + min(i, m) : (i + 1) * k + min(i + 1, m)] for i in range(n)]\n",
    "\n",
    "folds_count = 8\n",
    "input_folds = split(inputs, folds_count)"
   ]
  },
  {
   "cell_type": "markdown",
   "metadata": {},
   "source": [
    "4. Make request to a model"
   ]
  },
  {
   "cell_type": "code",
   "execution_count": 6,
   "metadata": {},
   "outputs": [],
   "source": [
    "retries = [4, 16, 32, 64, 128]\n",
    "\n",
    "def call_generate_text_api(client, model, contents, config, fold):\n",
    "    for attempt in range(len(retries)):\n",
    "        try:\n",
    "            result = client.models.generate_content(\n",
    "                model=model,\n",
    "                contents=contents,\n",
    "                config=config,\n",
    "            )\n",
    "\n",
    "            return result.text\n",
    "        except Exception as err:\n",
    "            print(f\"[Fold {fold}] Unexpected {err=}, {type(err)=}\")\n",
    "            if attempt < len(retries) - 1:\n",
    "                wait_time = retries[attempt]\n",
    "                print(f\"Retrying in {wait_time} seconds...\")\n",
    "                time.sleep(wait_time)\n",
    "            else:\n",
    "                print(f\"[Fold {fold}] Max retries reached. Skipping request.\")\n",
    "                raise err\n",
    "\n",
    "\n",
    "def generate(model_id, split_name, fold_index):\n",
    "    client = genai.Client(\n",
    "        vertexai=True,\n",
    "        project=\"17146036994\",\n",
    "        location=\"europe-north1\",\n",
    "    )\n",
    "\n",
    "    model = f\"projects/17146036994/locations/europe-north1/endpoints/{model_id}\"\n",
    "    config = types.GenerateContentConfig(\n",
    "        temperature=1,\n",
    "        top_p=0.95,\n",
    "        max_output_tokens=8192,\n",
    "        response_modalities=[\"TEXT\"],\n",
    "    )\n",
    "\n",
    "    with open(\n",
    "        RAW_DATA_FOLDER / f\"fine-tuned-gemini-ds-{split_name}-{fold_index}.csv\", \"a\"\n",
    "    ) as the_file:\n",
    "        writer = csv.writer(the_file)\n",
    "        for it in tqdm(input_folds[fold_index], desc=f\"Fold {fold_index}\"):\n",
    "            techniques, spans = it\n",
    "            contents = [f\"{techniques} ## {spans}\"]\n",
    "            text = call_generate_text_api(client, model, contents, config, fold_index)\n",
    "\n",
    "            span_str = [f\"{s},{f}\" for s, f in spans]\n",
    "\n",
    "            writer.writerow([\",\".join(techniques), \"|\".join(span_str), text])"
   ]
  },
  {
   "cell_type": "code",
   "execution_count": 7,
   "metadata": {},
   "outputs": [
    {
     "name": "stderr",
     "output_type": "stream",
     "text": [
      "Fold 7: 100%|██████████| 323/323 [09:59<00:00,  1.86s/it]\n",
      "Fold 2: 100%|██████████| 324/324 [10:21<00:00,  1.92s/it]\n",
      "Fold 0: 100%|██████████| 324/324 [10:22<00:00,  1.92s/it]\n",
      "Fold 3: 100%|██████████| 324/324 [10:40<00:00,  1.98s/it]\n",
      "Fold 5: 100%|██████████| 323/323 [11:03<00:00,  2.06s/it]\n",
      "Fold 6: 100%|██████████| 323/323 [11:10<00:00,  2.08s/it]\n",
      "Fold 4: 100%|██████████| 324/324 [11:11<00:00,  2.07s/it]\n",
      "Fold 1: 100%|██████████| 324/324 [11:35<00:00,  2.15s/it]\n",
      "/Users/alexandermelashchenko/.pyenv/versions/3.11.10/lib/python3.11/multiprocessing/resource_tracker.py:254: UserWarning: resource_tracker: There appear to be 1 leaked semaphore objects to clean up at shutdown\n",
      "  warnings.warn('resource_tracker: There appear to be %d '\n",
      "/Users/alexandermelashchenko/.pyenv/versions/3.11.10/lib/python3.11/multiprocessing/resource_tracker.py:254: UserWarning: resource_tracker: There appear to be 1 leaked semaphore objects to clean up at shutdown\n",
      "  warnings.warn('resource_tracker: There appear to be %d '\n",
      "/Users/alexandermelashchenko/.pyenv/versions/3.11.10/lib/python3.11/multiprocessing/resource_tracker.py:254: UserWarning: resource_tracker: There appear to be 1 leaked semaphore objects to clean up at shutdown\n",
      "  warnings.warn('resource_tracker: There appear to be %d '\n",
      "/Users/alexandermelashchenko/.pyenv/versions/3.11.10/lib/python3.11/multiprocessing/resource_tracker.py:254: UserWarning: resource_tracker: There appear to be 1 leaked semaphore objects to clean up at shutdown\n",
      "  warnings.warn('resource_tracker: There appear to be %d '\n",
      "/Users/alexandermelashchenko/.pyenv/versions/3.11.10/lib/python3.11/multiprocessing/resource_tracker.py:254: UserWarning: resource_tracker: There appear to be 1 leaked semaphore objects to clean up at shutdown\n",
      "  warnings.warn('resource_tracker: There appear to be %d '\n",
      "/Users/alexandermelashchenko/.pyenv/versions/3.11.10/lib/python3.11/multiprocessing/resource_tracker.py:254: UserWarning: resource_tracker: There appear to be 1 leaked semaphore objects to clean up at shutdown\n",
      "  warnings.warn('resource_tracker: There appear to be %d '\n",
      "/Users/alexandermelashchenko/.pyenv/versions/3.11.10/lib/python3.11/multiprocessing/resource_tracker.py:254: UserWarning: resource_tracker: There appear to be 1 leaked semaphore objects to clean up at shutdown\n",
      "  warnings.warn('resource_tracker: There appear to be %d '\n",
      "/Users/alexandermelashchenko/.pyenv/versions/3.11.10/lib/python3.11/multiprocessing/resource_tracker.py:254: UserWarning: resource_tracker: There appear to be 1 leaked semaphore objects to clean up at shutdown\n",
      "  warnings.warn('resource_tracker: There appear to be %d '\n"
     ]
    }
   ],
   "source": [
    "with mp.Pool(processes=folds_count) as pool:\n",
    "    ru_model = \"5871383296230817792\"\n",
    "    ru_split = \"ru\"\n",
    "    params = [(ru_model, ru_split, i) for i in range(folds_count)]\n",
    "    pool.starmap(generate, params)"
   ]
  },
  {
   "cell_type": "code",
   "execution_count": 8,
   "metadata": {},
   "outputs": [
    {
     "name": "stderr",
     "output_type": "stream",
     "text": [
      "Fold 1:   7%|▋         | 24/324 [00:48<09:40,  1.93s/it]"
     ]
    },
    {
     "name": "stdout",
     "output_type": "stream",
     "text": [
      "[Fold 6] Unexpected err=ServerError(\"500 INTERNAL. {'error': {'code': 500, 'message': 'Internal error encountered.', 'status': 'INTERNAL'}}\"), type(err)=<class 'google.genai.errors.ServerError'>\n",
      "Retrying in 4 seconds...\n"
     ]
    },
    {
     "name": "stderr",
     "output_type": "stream",
     "text": [
      "Fold 5:  20%|██        | 65/323 [02:40<12:25,  2.89s/it]  "
     ]
    },
    {
     "name": "stdout",
     "output_type": "stream",
     "text": [
      "[Fold 1] Unexpected err=ServerError(\"500 INTERNAL. {'error': {'code': 500, 'message': 'Internal error encountered.', 'status': 'INTERNAL'}}\"), type(err)=<class 'google.genai.errors.ServerError'>\n",
      "Retrying in 4 seconds...\n"
     ]
    },
    {
     "name": "stderr",
     "output_type": "stream",
     "text": [
      "Fold 4:  31%|███       | 99/324 [04:16<09:31,  2.54s/it]] "
     ]
    },
    {
     "name": "stdout",
     "output_type": "stream",
     "text": [
      "[Fold 1] Unexpected err=ServerError(\"500 INTERNAL. {'error': {'code': 500, 'message': 'Internal error encountered.', 'status': 'INTERNAL'}}\"), type(err)=<class 'google.genai.errors.ServerError'>\n",
      "Retrying in 4 seconds...\n"
     ]
    },
    {
     "name": "stderr",
     "output_type": "stream",
     "text": [
      "Fold 3:  43%|████▎     | 138/324 [05:38<05:47,  1.87s/it]"
     ]
    },
    {
     "name": "stdout",
     "output_type": "stream",
     "text": [
      "[Fold 7] Unexpected err=ServerError(\"500 INTERNAL. {'error': {'code': 500, 'message': 'Internal error encountered.', 'status': 'INTERNAL'}}\"), type(err)=<class 'google.genai.errors.ServerError'>\n",
      "Retrying in 4 seconds...\n"
     ]
    },
    {
     "name": "stderr",
     "output_type": "stream",
     "text": [
      "Fold 3:  55%|█████▌    | 179/324 [07:10<04:42,  1.95s/it]"
     ]
    },
    {
     "name": "stdout",
     "output_type": "stream",
     "text": [
      "[Fold 4] Unexpected err=ServerError(\"500 INTERNAL. {'error': {'code': 500, 'message': 'Internal error encountered.', 'status': 'INTERNAL'}}\"), type(err)=<class 'google.genai.errors.ServerError'>\n",
      "Retrying in 4 seconds...\n"
     ]
    },
    {
     "name": "stderr",
     "output_type": "stream",
     "text": [
      "Fold 2: 100%|██████████| 324/324 [11:56<00:00,  2.21s/it]\n",
      "Fold 0: 100%|██████████| 324/324 [12:13<00:00,  2.26s/it]\n",
      "Fold 5: 100%|██████████| 323/323 [12:33<00:00,  2.33s/it]\n",
      "Fold 7: 100%|██████████| 323/323 [12:56<00:00,  2.41s/it]\n",
      "Fold 3: 100%|██████████| 324/324 [12:57<00:00,  2.40s/it]\n",
      "Fold 4: 100%|██████████| 324/324 [13:12<00:00,  2.45s/it]\n",
      "Fold 1: 100%|██████████| 324/324 [13:44<00:00,  2.54s/it]\n",
      "Fold 6: 100%|██████████| 323/323 [13:53<00:00,  2.58s/it]\n",
      "/Users/alexandermelashchenko/.pyenv/versions/3.11.10/lib/python3.11/multiprocessing/resource_tracker.py:254: UserWarning: resource_tracker: There appear to be 1 leaked semaphore objects to clean up at shutdown\n",
      "  warnings.warn('resource_tracker: There appear to be %d '\n",
      "/Users/alexandermelashchenko/.pyenv/versions/3.11.10/lib/python3.11/multiprocessing/resource_tracker.py:254: UserWarning: resource_tracker: There appear to be 1 leaked semaphore objects to clean up at shutdown\n",
      "  warnings.warn('resource_tracker: There appear to be %d '\n",
      "/Users/alexandermelashchenko/.pyenv/versions/3.11.10/lib/python3.11/multiprocessing/resource_tracker.py:254: UserWarning: resource_tracker: There appear to be 1 leaked semaphore objects to clean up at shutdown\n",
      "  warnings.warn('resource_tracker: There appear to be %d '\n",
      "/Users/alexandermelashchenko/.pyenv/versions/3.11.10/lib/python3.11/multiprocessing/resource_tracker.py:254: UserWarning: resource_tracker: There appear to be 1 leaked semaphore objects to clean up at shutdown\n",
      "  warnings.warn('resource_tracker: There appear to be %d '\n",
      "/Users/alexandermelashchenko/.pyenv/versions/3.11.10/lib/python3.11/multiprocessing/resource_tracker.py:254: UserWarning: resource_tracker: There appear to be 1 leaked semaphore objects to clean up at shutdown\n",
      "  warnings.warn('resource_tracker: There appear to be %d '\n",
      "/Users/alexandermelashchenko/.pyenv/versions/3.11.10/lib/python3.11/multiprocessing/resource_tracker.py:254: UserWarning: resource_tracker: There appear to be 1 leaked semaphore objects to clean up at shutdown\n",
      "  warnings.warn('resource_tracker: There appear to be %d '\n",
      "/Users/alexandermelashchenko/.pyenv/versions/3.11.10/lib/python3.11/multiprocessing/resource_tracker.py:254: UserWarning: resource_tracker: There appear to be 1 leaked semaphore objects to clean up at shutdown\n",
      "  warnings.warn('resource_tracker: There appear to be %d '\n",
      "/Users/alexandermelashchenko/.pyenv/versions/3.11.10/lib/python3.11/multiprocessing/resource_tracker.py:254: UserWarning: resource_tracker: There appear to be 1 leaked semaphore objects to clean up at shutdown\n",
      "  warnings.warn('resource_tracker: There appear to be %d '\n"
     ]
    }
   ],
   "source": [
    "with mp.Pool(processes=folds_count) as pool:\n",
    "    ru_model = \"5526857924736974848\"\n",
    "    ru_split = \"ua\"\n",
    "    params = [(ru_model, ru_split, i) for i in range(folds_count)]\n",
    "    pool.starmap(generate, params)"
   ]
  }
 ],
 "metadata": {
  "kernelspec": {
   "display_name": ".venv",
   "language": "python",
   "name": "python3"
  },
  "language_info": {
   "codemirror_mode": {
    "name": "ipython",
    "version": 3
   },
   "file_extension": ".py",
   "mimetype": "text/x-python",
   "name": "python",
   "nbconvert_exporter": "python",
   "pygments_lexer": "ipython3",
   "version": "3.11.10"
  }
 },
 "nbformat": 4,
 "nbformat_minor": 2
}
