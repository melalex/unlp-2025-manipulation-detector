{
 "cells": [
  {
   "cell_type": "markdown",
   "metadata": {},
   "source": [
    "# Dataset exploration"
   ]
  },
  {
   "cell_type": "markdown",
   "metadata": {},
   "source": [
    "1. Import dependencies"
   ]
  },
  {
   "cell_type": "code",
   "execution_count": 18,
   "metadata": {},
   "outputs": [],
   "source": [
    "import pandas as pd\n",
    "import sys\n",
    "\n",
    "sys.path.append('..')\n",
    "from src.definitions import RAW_DATA_FOLDER"
   ]
  },
  {
   "cell_type": "markdown",
   "metadata": {},
   "source": [
    "## Span detection"
   ]
  },
  {
   "cell_type": "code",
   "execution_count": 19,
   "metadata": {},
   "outputs": [
    {
     "data": {
      "text/html": [
       "<div>\n",
       "<style scoped>\n",
       "    .dataframe tbody tr th:only-of-type {\n",
       "        vertical-align: middle;\n",
       "    }\n",
       "\n",
       "    .dataframe tbody tr th {\n",
       "        vertical-align: top;\n",
       "    }\n",
       "\n",
       "    .dataframe thead th {\n",
       "        text-align: right;\n",
       "    }\n",
       "</style>\n",
       "<table border=\"1\" class=\"dataframe\">\n",
       "  <thead>\n",
       "    <tr style=\"text-align: right;\">\n",
       "      <th></th>\n",
       "      <th>id</th>\n",
       "      <th>content</th>\n",
       "      <th>lang</th>\n",
       "      <th>manipulative</th>\n",
       "      <th>techniques</th>\n",
       "      <th>trigger_words</th>\n",
       "    </tr>\n",
       "  </thead>\n",
       "  <tbody>\n",
       "    <tr>\n",
       "      <th>0</th>\n",
       "      <td>0bb0c7fa-101b-4583-a5f9-9d503339141c</td>\n",
       "      <td>Новий огляд мапи DeepState від російського вій...</td>\n",
       "      <td>uk</td>\n",
       "      <td>True</td>\n",
       "      <td>[euphoria, loaded_language]</td>\n",
       "      <td>[[27, 63], [65, 88], [90, 183], [186, 308]]</td>\n",
       "    </tr>\n",
       "    <tr>\n",
       "      <th>1</th>\n",
       "      <td>7159f802-6f99-4e9d-97bd-6f565a4a0fae</td>\n",
       "      <td>Недавно 95 квартал жёстко поглумился над русск...</td>\n",
       "      <td>ru</td>\n",
       "      <td>True</td>\n",
       "      <td>[loaded_language, cherry_picking]</td>\n",
       "      <td>[[0, 40], [123, 137], [180, 251], [253, 274]]</td>\n",
       "    </tr>\n",
       "    <tr>\n",
       "      <th>2</th>\n",
       "      <td>e6a427f1-211f-405f-bd8b-70798458d656</td>\n",
       "      <td>🤩\\nТим часом йде евакуація Бєлгородського авто...</td>\n",
       "      <td>uk</td>\n",
       "      <td>True</td>\n",
       "      <td>[loaded_language, euphoria]</td>\n",
       "      <td>[[55, 100]]</td>\n",
       "    </tr>\n",
       "    <tr>\n",
       "      <th>3</th>\n",
       "      <td>1647a352-4cd3-40f6-bfa1-d87d42e34eea</td>\n",
       "      <td>В Україні найближчим часом мають намір посилит...</td>\n",
       "      <td>uk</td>\n",
       "      <td>False</td>\n",
       "      <td>None</td>\n",
       "      <td>None</td>\n",
       "    </tr>\n",
       "    <tr>\n",
       "      <th>4</th>\n",
       "      <td>9c01de00-841f-4b50-9407-104e9ffb03bf</td>\n",
       "      <td>Расчёты 122-мм САУ 2С1 \"Гвоздика\" 132-й бригад...</td>\n",
       "      <td>ru</td>\n",
       "      <td>True</td>\n",
       "      <td>[loaded_language]</td>\n",
       "      <td>[[114, 144]]</td>\n",
       "    </tr>\n",
       "  </tbody>\n",
       "</table>\n",
       "</div>"
      ],
      "text/plain": [
       "                                     id  \\\n",
       "0  0bb0c7fa-101b-4583-a5f9-9d503339141c   \n",
       "1  7159f802-6f99-4e9d-97bd-6f565a4a0fae   \n",
       "2  e6a427f1-211f-405f-bd8b-70798458d656   \n",
       "3  1647a352-4cd3-40f6-bfa1-d87d42e34eea   \n",
       "4  9c01de00-841f-4b50-9407-104e9ffb03bf   \n",
       "\n",
       "                                             content lang  manipulative  \\\n",
       "0  Новий огляд мапи DeepState від російського вій...   uk          True   \n",
       "1  Недавно 95 квартал жёстко поглумился над русск...   ru          True   \n",
       "2  🤩\\nТим часом йде евакуація Бєлгородського авто...   uk          True   \n",
       "3  В Україні найближчим часом мають намір посилит...   uk         False   \n",
       "4  Расчёты 122-мм САУ 2С1 \"Гвоздика\" 132-й бригад...   ru          True   \n",
       "\n",
       "                          techniques  \\\n",
       "0        [euphoria, loaded_language]   \n",
       "1  [loaded_language, cherry_picking]   \n",
       "2        [loaded_language, euphoria]   \n",
       "3                               None   \n",
       "4                  [loaded_language]   \n",
       "\n",
       "                                   trigger_words  \n",
       "0    [[27, 63], [65, 88], [90, 183], [186, 308]]  \n",
       "1  [[0, 40], [123, 137], [180, 251], [253, 274]]  \n",
       "2                                    [[55, 100]]  \n",
       "3                                           None  \n",
       "4                                   [[114, 144]]  "
      ]
     },
     "execution_count": 19,
     "metadata": {},
     "output_type": "execute_result"
    }
   ],
   "source": [
    "span_detection_tbl = pd.read_parquet(RAW_DATA_FOLDER / \"span-detection.parquet\")\n",
    "\n",
    "span_detection_tbl.head(5)"
   ]
  },
  {
   "cell_type": "code",
   "execution_count": 20,
   "metadata": {},
   "outputs": [
    {
     "data": {
      "text/plain": [
       "3822"
      ]
     },
     "execution_count": 20,
     "metadata": {},
     "output_type": "execute_result"
    }
   ],
   "source": [
    "len(span_detection_tbl)"
   ]
  },
  {
   "cell_type": "code",
   "execution_count": 21,
   "metadata": {},
   "outputs": [
    {
     "data": {
      "text/plain": [
       "{'appeal_to_fear',\n",
       " 'bandwagon',\n",
       " 'cherry_picking',\n",
       " 'cliche',\n",
       " 'euphoria',\n",
       " 'fud',\n",
       " 'glittering_generalities',\n",
       " 'loaded_language',\n",
       " 'straw_man',\n",
       " 'whataboutism'}"
      ]
     },
     "execution_count": 21,
     "metadata": {},
     "output_type": "execute_result"
    }
   ],
   "source": [
    "set(\n",
    "    value\n",
    "    for sublist in span_detection_tbl[\"techniques\"]\n",
    "    if sublist is not None\n",
    "    for value in sublist\n",
    ")"
   ]
  },
  {
   "cell_type": "code",
   "execution_count": 22,
   "metadata": {},
   "outputs": [
    {
     "data": {
      "text/plain": [
       "'від російського військового експерта'"
      ]
     },
     "execution_count": 22,
     "metadata": {},
     "output_type": "execute_result"
    }
   ],
   "source": [
    "span_detection_tbl[\"content\"][0][27: 63]"
   ]
  },
  {
   "cell_type": "code",
   "execution_count": 23,
   "metadata": {},
   "outputs": [
    {
     "data": {
      "text/plain": [
       "<Axes: >"
      ]
     },
     "execution_count": 23,
     "metadata": {},
     "output_type": "execute_result"
    },
    {
     "data": {
      "image/png": "[encoded data removed]",
      "text/plain": [
       "<Figure size 640x480 with 1 Axes>"
      ]
     },
     "metadata": {},
     "output_type": "display_data"
    }
   ],
   "source": [
    "span_detection_tbl[\"lang\"].hist()"
   ]
  },
  {
   "cell_type": "markdown",
   "metadata": {},
   "source": [
    "Check length of samples"
   ]
  },
  {
   "cell_type": "code",
   "execution_count": 24,
   "metadata": {},
   "outputs": [
    {
     "data": {
      "image/png": "[encoded data removed]",
      "text/plain": [
       "<Figure size 640x480 with 1 Axes>"
      ]
     },
     "metadata": {},
     "output_type": "display_data"
    }
   ],
   "source": [
    "import matplotlib.pyplot as plt\n",
    "lengths = span_detection_tbl['content'].map(lambda x: len(x.split()))\n",
    "lengths.hist(bins=100)\n",
    "plt.xlabel('Number of characters')\n",
    "plt.ylabel('Number of samples')\n",
    "plt.show()"
   ]
  },
  {
   "cell_type": "code",
   "execution_count": 25,
   "metadata": {},
   "outputs": [
    {
     "data": {
      "text/plain": [
       "count    3822.000000\n",
       "mean       86.093145\n",
       "std        85.902422\n",
       "min         9.000000\n",
       "25%        33.000000\n",
       "50%        60.000000\n",
       "75%       106.000000\n",
       "max       707.000000\n",
       "Name: content, dtype: float64"
      ]
     },
     "execution_count": 25,
     "metadata": {},
     "output_type": "execute_result"
    }
   ],
   "source": [
    "lengths.describe()"
   ]
  },
  {
   "cell_type": "code",
   "execution_count": 26,
   "metadata": {},
   "outputs": [
    {
     "data": {
      "text/plain": [
       "id                            14caf769-4d35-4bfe-ac2d-ccfbc8b63ad2\n",
       "content          Божевільне таксі. З неопублікованого \\nЄ в мен...\n",
       "lang                                                            uk\n",
       "manipulative                                                  True\n",
       "techniques                     [loaded_language, euphoria, cliche]\n",
       "trigger_words    [[0, 16], [47, 54], [105, 111], [158, 195], [1...\n",
       "Name: 3344, dtype: object"
      ]
     },
     "execution_count": 26,
     "metadata": {},
     "output_type": "execute_result"
    }
   ],
   "source": [
    "span_detection_tbl.iloc[lengths.idxmax()]"
   ]
  },
  {
   "cell_type": "code",
   "execution_count": 27,
   "metadata": {},
   "outputs": [
    {
     "data": {
      "text/plain": [
       "array([array([ 0, 16], dtype=int64), array([47, 54], dtype=int64),\n",
       "       array([105, 111], dtype=int64), array([158, 195], dtype=int64),\n",
       "       array([198, 256], dtype=int64), array([331, 364], dtype=int64),\n",
       "       array([370, 418], dtype=int64), array([531, 567], dtype=int64),\n",
       "       array([572, 612], dtype=int64), array([640, 652], dtype=int64),\n",
       "       array([720, 753], dtype=int64), array([759, 838], dtype=int64),\n",
       "       array([840, 861], dtype=int64), array([884, 913], dtype=int64),\n",
       "       array([979, 984], dtype=int64), array([992, 996], dtype=int64),\n",
       "       array([1019, 1032], dtype=int64), array([1057, 1064], dtype=int64),\n",
       "       array([1097, 1113], dtype=int64), array([1144, 1161], dtype=int64),\n",
       "       array([1218, 1281], dtype=int64), array([1311, 1338], dtype=int64),\n",
       "       array([1416, 1436], dtype=int64), array([1438, 1540], dtype=int64),\n",
       "       array([1544, 1549], dtype=int64), array([1569, 1576], dtype=int64),\n",
       "       array([1606, 1662], dtype=int64), array([1678, 1708], dtype=int64),\n",
       "       array([1714, 1740], dtype=int64), array([992, 996], dtype=int64),\n",
       "       array([1097, 1103], dtype=int64), array([1906, 1935], dtype=int64),\n",
       "       array([1982, 2004], dtype=int64), array([2065, 2071], dtype=int64),\n",
       "       array([2179, 2332], dtype=int64), array([2334, 2482], dtype=int64),\n",
       "       array([2599, 2606], dtype=int64), array([2651, 2676], dtype=int64),\n",
       "       array([2685, 2694], dtype=int64), array([2719, 2730], dtype=int64),\n",
       "       array([2776, 2790], dtype=int64), array([2948, 3116], dtype=int64),\n",
       "       array([3141, 3152], dtype=int64), array([3163, 3203], dtype=int64),\n",
       "       array([3292, 3307], dtype=int64), array([2065, 2071], dtype=int64),\n",
       "       array([3440, 3482], dtype=int64), array([3484, 3516], dtype=int64),\n",
       "       array([3896, 3908], dtype=int64), array([3946, 4068], dtype=int64)],\n",
       "      dtype=object)"
      ]
     },
     "execution_count": 27,
     "metadata": {},
     "output_type": "execute_result"
    }
   ],
   "source": [
    "span_detection_tbl.iloc[lengths.idxmax()]['trigger_words']"
   ]
  },
  {
   "cell_type": "markdown",
   "metadata": {},
   "source": [
    "Check length of tokenized samples"
   ]
  },
  {
   "cell_type": "code",
   "execution_count": 28,
   "metadata": {},
   "outputs": [],
   "source": [
    "from transformers import AutoTokenizer\n",
    "model_checkpoint = 'EvanD/xlm-roberta-base-ukrainian-ner-ukrner'\n",
    "tokenizer = AutoTokenizer.from_pretrained(model_checkpoint)"
   ]
  },
  {
   "cell_type": "code",
   "execution_count": 29,
   "metadata": {},
   "outputs": [
    {
     "name": "stderr",
     "output_type": "stream",
     "text": [
      "Token indices sequence length is longer than the specified maximum sequence length for this model (1080 > 512). Running this sequence through the model will result in indexing errors\n"
     ]
    },
    {
     "data": {
      "image/png": "[encoded data removed]",
      "text/plain": [
       "<Figure size 640x480 with 1 Axes>"
      ]
     },
     "metadata": {},
     "output_type": "display_data"
    }
   ],
   "source": [
    "import matplotlib.pyplot as plt\n",
    "lengths_tokenized = span_detection_tbl['content'].map(lambda x: len(tokenizer(x)['input_ids']))\n",
    "lengths_tokenized.hist(bins=100)\n",
    "plt.xlabel('Number of tokens')\n",
    "plt.ylabel('Number of samples')\n",
    "plt.show()"
   ]
  },
  {
   "cell_type": "code",
   "execution_count": 30,
   "metadata": {},
   "outputs": [
    {
     "data": {
      "text/plain": [
       "count    3822.000000\n",
       "mean      166.865515\n",
       "std       160.763195\n",
       "min        22.000000\n",
       "25%        67.000000\n",
       "50%       117.000000\n",
       "75%       206.000000\n",
       "max      1224.000000\n",
       "Name: content, dtype: float64"
      ]
     },
     "execution_count": 30,
     "metadata": {},
     "output_type": "execute_result"
    }
   ],
   "source": [
    "lengths_tokenized.describe()"
   ]
  },
  {
   "cell_type": "code",
   "execution_count": 31,
   "metadata": {},
   "outputs": [
    {
     "data": {
      "text/plain": [
       "id                            14caf769-4d35-4bfe-ac2d-ccfbc8b63ad2\n",
       "content          Божевільне таксі. З неопублікованого \\nЄ в мен...\n",
       "lang                                                            uk\n",
       "manipulative                                                  True\n",
       "techniques                     [loaded_language, euphoria, cliche]\n",
       "trigger_words    [[0, 16], [47, 54], [105, 111], [158, 195], [1...\n",
       "Name: 3344, dtype: object"
      ]
     },
     "execution_count": 31,
     "metadata": {},
     "output_type": "execute_result"
    }
   ],
   "source": [
    "span_detection_tbl.iloc[lengths.idxmax()]"
   ]
  },
  {
   "cell_type": "markdown",
   "metadata": {},
   "source": [
    "Create dataset with windowed spans"
   ]
  },
  {
   "cell_type": "code",
   "execution_count": 32,
   "metadata": {},
   "outputs": [],
   "source": [
    "import re\n",
    "from typing import List, Dict, Any\n",
    "\n",
    "def window_dataset(dataset: List[Dict[str, Any]], window_size: int = 200, overlap: int = 50) -> List[Dict[str, Any]]:\n",
    "    \"\"\"\n",
    "    Process a dataset by creating windows of text with overlapping content,\n",
    "    adjusting span annotations accurately based on character positions.\n",
    "    \n",
    "    Args:\n",
    "        dataset: List of dictionaries, each with 'id', 'content', 'lang', \n",
    "                'manipulative','techniques', and 'trigger_words' keys\n",
    "        window_size: Number of words in each window\n",
    "        overlap: Number of words that overlap between consecutive windows\n",
    "        \n",
    "    Returns:\n",
    "        A new dataset with windowed content and adjusted trigger word spans\n",
    "    \"\"\"\n",
    "    windowed_dataset = []\n",
    "    \n",
    "    for item in dataset.iterrows():\n",
    "        item = item[1]\n",
    "        content = item['content']\n",
    "        trigger_words = item['trigger_words']\n",
    "        \n",
    "        # Split content into words\n",
    "        words = re.findall(r'\\s*\\S+\\s*', content)\n",
    "        \n",
    "        # If content is smaller than window_size, keep as is\n",
    "        if len(words) <= window_size:\n",
    "            windowed_dataset.append({\n",
    "                'id': item['id'],\n",
    "                'content': content,\n",
    "                'lang': item['lang'],\n",
    "                'manipulative': item['manipulative'],\n",
    "                'techniques': item['techniques'],\n",
    "                'trigger_words': trigger_words\n",
    "            })\n",
    "            continue\n",
    "        \n",
    "        # Create windows\n",
    "        windows = []\n",
    "        for start_idx in range(0, len(words), window_size - overlap):\n",
    "            end_idx = min(start_idx + window_size, len(words))\n",
    "            window_words = words[start_idx:end_idx]\n",
    "            window_text = \"\".join(window_words)\n",
    "            \n",
    "            # Find the exact position of this window in the original text\n",
    "            if start_idx == 0:\n",
    "                # First window starts at the beginning\n",
    "                window_start_pos = 0\n",
    "            else:\n",
    "                # Find position of the first word in this window\n",
    "                prefix = \"\".join(words[:start_idx])\n",
    "                window_start_pos = len(prefix) + 1  # +1 for the space after prefix\n",
    "            \n",
    "            window_end_pos = window_start_pos + len(window_text)\n",
    "            \n",
    "            windows.append({\n",
    "                'text': window_text,\n",
    "                'start_pos': window_start_pos,\n",
    "                'end_pos': window_end_pos\n",
    "            })\n",
    "            \n",
    "            # Break if we've reached the end of the text\n",
    "            if end_idx >= len(words):\n",
    "                break\n",
    "        \n",
    "        # Create new dataset items for each window with adjusted spans\n",
    "        for i, window in enumerate(windows):\n",
    "            new_item = {\n",
    "                'id': item['id'],\n",
    "                'content': window['text'],\n",
    "                'lang': item['lang'],\n",
    "                'manipulative': item['manipulative'],\n",
    "                'techniques': item['techniques'],\n",
    "                'trigger_words': []\n",
    "            }\n",
    "            \n",
    "            # Extract exact substrings for trigger words from original content\n",
    "            if trigger_words is not None:\n",
    "                triggers_text = []\n",
    "                for span in trigger_words:\n",
    "                    orig_start, orig_end = span\n",
    "                    triggers_text.append(content[orig_start:orig_end])\n",
    "            \n",
    "            # Find these triggers in the window text\n",
    "                for j, trigger_text in enumerate(triggers_text):\n",
    "                    orig_start, orig_end = trigger_words[j]\n",
    "                    \n",
    "                    # Check if the original span overlaps with this window\n",
    "                    if (orig_end > window['start_pos'] and orig_start <= window['end_pos']):\n",
    "                        # Find all occurrences in the window\n",
    "                        window_text = window['text']\n",
    "                        start_pos = 0\n",
    "                        while start_pos < len(window_text):\n",
    "                            pos = window_text.find(trigger_text, start_pos)\n",
    "                            if pos == -1:\n",
    "                                break\n",
    "                                \n",
    "                            # Add the adjusted span\n",
    "                            new_item['trigger_words'].append([pos, pos + len(trigger_text)])\n",
    "                            start_pos = pos + 1  # Move to find next occurrence\n",
    "            \n",
    "            # Only add window if it contains at least one trigger word\n",
    "            if new_item['trigger_words']:\n",
    "                windowed_dataset.append(new_item)\n",
    "            else:\n",
    "                # Optionally, you might want to keep windows without trigger words\n",
    "                # Uncomment this if you want to keep all windows\n",
    "                new_item['trigger_words'] = []\n",
    "                windowed_dataset.append(new_item)\n",
    "                pass\n",
    "                \n",
    "    return windowed_dataset\n",
    "\n",
    "# usage:\n",
    "windowed_data = window_dataset(span_detection_tbl, window_size=512, overlap=0)"
   ]
  },
  {
   "cell_type": "code",
   "execution_count": 16,
   "metadata": {},
   "outputs": [
    {
     "name": "stdout",
     "output_type": "stream",
     "text": [
      "«оранжевую революцию» еще за два года до ее начала стали готовить сыновья Бжезинского\n",
      "на ее реализацию было направлено три из четырех основных подразделенный США по психологической войне\n",
      "Что он только что из Лондона и сам, будучи в офисе Березовского, слышал, как тот кричал в трубку Жвании: «Уберите со сцены эту кокаинистку, она нам все планы поломает!»\n",
      "о финансировании (помимо США) со стороны Березовского\n",
      "«этот зверинец»\n",
      "думаю, общую атмосферу в Киеве за пределами досягаемости телекамер 5 канала, мне в какой-то мере, удалось передать\n"
     ]
    }
   ],
   "source": [
    "num = 55\n",
    "for tw in span_detection_tbl.iloc[num]['trigger_words']:\n",
    "    print(span_detection_tbl.iloc[num]['content'][tw[0]:tw[1]])"
   ]
  },
  {
   "cell_type": "code",
   "execution_count": 17,
   "metadata": {},
   "outputs": [
    {
     "name": "stdout",
     "output_type": "stream",
     "text": [
      "«оранжевую революцию» еще за два года до ее начала стали готовить сыновья Бжезинского\n",
      "на ее реализацию было направлено три из четырех основных подразделенный США по психологической войне\n",
      "Что он только что из Лондона и сам, будучи в офисе Березовского, слышал, как тот кричал в трубку Жвании: «Уберите со сцены эту кокаинистку, она нам все планы поломает!»\n"
     ]
    }
   ],
   "source": [
    "wnum = 61\n",
    "for tw in windowed_data[wnum]['trigger_words']:\n",
    "    print(windowed_data[wnum]['content'][tw[0]:tw[1]])"
   ]
  },
  {
   "cell_type": "code",
   "execution_count": 18,
   "metadata": {},
   "outputs": [
    {
     "name": "stdout",
     "output_type": "stream",
     "text": [
      "Что он только что из Лондона и сам, будучи в офисе Березовского, слышал, как тот кричал в трубку Жвании: «Уберите со сцены эту кокаинистку, она нам все планы поломает!»\n",
      "о финансировании (помимо США) со стороны Березовского\n",
      "«этот зверинец»\n"
     ]
    }
   ],
   "source": [
    "wnum = 62\n",
    "for tw in windowed_data[wnum]['trigger_words']:\n",
    "    print(windowed_data[wnum]['content'][tw[0]:tw[1]])"
   ]
  },
  {
   "cell_type": "code",
   "execution_count": 19,
   "metadata": {},
   "outputs": [
    {
     "name": "stdout",
     "output_type": "stream",
     "text": [
      "думаю, общую атмосферу в Киеве за пределами досягаемости телекамер 5 канала, мне в какой-то мере, удалось передать\n"
     ]
    }
   ],
   "source": [
    "wnum = 63\n",
    "for tw in windowed_data[wnum]['trigger_words']:\n",
    "    print(windowed_data[wnum]['content'][tw[0]:tw[1]])"
   ]
  },
  {
   "cell_type": "code",
   "execution_count": 33,
   "metadata": {},
   "outputs": [
    {
     "data": {
      "text/html": [
       "<div>\n",
       "<style scoped>\n",
       "    .dataframe tbody tr th:only-of-type {\n",
       "        vertical-align: middle;\n",
       "    }\n",
       "\n",
       "    .dataframe tbody tr th {\n",
       "        vertical-align: top;\n",
       "    }\n",
       "\n",
       "    .dataframe thead th {\n",
       "        text-align: right;\n",
       "    }\n",
       "</style>\n",
       "<table border=\"1\" class=\"dataframe\">\n",
       "  <thead>\n",
       "    <tr style=\"text-align: right;\">\n",
       "      <th></th>\n",
       "      <th>id</th>\n",
       "      <th>content</th>\n",
       "      <th>lang</th>\n",
       "      <th>manipulative</th>\n",
       "      <th>techniques</th>\n",
       "      <th>trigger_words</th>\n",
       "    </tr>\n",
       "  </thead>\n",
       "  <tbody>\n",
       "    <tr>\n",
       "      <th>0</th>\n",
       "      <td>0bb0c7fa-101b-4583-a5f9-9d503339141c</td>\n",
       "      <td>Новий огляд мапи DeepState від російського вій...</td>\n",
       "      <td>uk</td>\n",
       "      <td>True</td>\n",
       "      <td>[euphoria, loaded_language]</td>\n",
       "      <td>[[27, 63], [65, 88], [90, 183], [186, 308]]</td>\n",
       "    </tr>\n",
       "    <tr>\n",
       "      <th>1</th>\n",
       "      <td>7159f802-6f99-4e9d-97bd-6f565a4a0fae</td>\n",
       "      <td>Недавно 95 квартал жёстко поглумился над русск...</td>\n",
       "      <td>ru</td>\n",
       "      <td>True</td>\n",
       "      <td>[loaded_language, cherry_picking]</td>\n",
       "      <td>[[0, 40], [123, 137], [180, 251], [253, 274]]</td>\n",
       "    </tr>\n",
       "    <tr>\n",
       "      <th>2</th>\n",
       "      <td>e6a427f1-211f-405f-bd8b-70798458d656</td>\n",
       "      <td>🤩\\nТим часом йде евакуація Бєлгородського авто...</td>\n",
       "      <td>uk</td>\n",
       "      <td>True</td>\n",
       "      <td>[loaded_language, euphoria]</td>\n",
       "      <td>[[55, 100]]</td>\n",
       "    </tr>\n",
       "    <tr>\n",
       "      <th>3</th>\n",
       "      <td>1647a352-4cd3-40f6-bfa1-d87d42e34eea</td>\n",
       "      <td>В Україні найближчим часом мають намір посилит...</td>\n",
       "      <td>uk</td>\n",
       "      <td>False</td>\n",
       "      <td>None</td>\n",
       "      <td>None</td>\n",
       "    </tr>\n",
       "    <tr>\n",
       "      <th>4</th>\n",
       "      <td>9c01de00-841f-4b50-9407-104e9ffb03bf</td>\n",
       "      <td>Расчёты 122-мм САУ 2С1 \"Гвоздика\" 132-й бригад...</td>\n",
       "      <td>ru</td>\n",
       "      <td>True</td>\n",
       "      <td>[loaded_language]</td>\n",
       "      <td>[[114, 144]]</td>\n",
       "    </tr>\n",
       "    <tr>\n",
       "      <th>...</th>\n",
       "      <td>...</td>\n",
       "      <td>...</td>\n",
       "      <td>...</td>\n",
       "      <td>...</td>\n",
       "      <td>...</td>\n",
       "      <td>...</td>\n",
       "    </tr>\n",
       "    <tr>\n",
       "      <th>3846</th>\n",
       "      <td>0e5dd135-ef41-48d3-b274-faedf3a2126c</td>\n",
       "      <td>🤭\\nросія ставить ППО на дахах адмінбудівель\\nр...</td>\n",
       "      <td>uk</td>\n",
       "      <td>True</td>\n",
       "      <td>[loaded_language, euphoria]</td>\n",
       "      <td>[[2, 7], [43, 75], [77, 143], [145, 178], [340...</td>\n",
       "    </tr>\n",
       "    <tr>\n",
       "      <th>3847</th>\n",
       "      <td>08e6772a-9793-4ec9-babd-2a9e0e8b31f9</td>\n",
       "      <td>К слову, Бабий не просто «ларечник», а и челов...</td>\n",
       "      <td>ru</td>\n",
       "      <td>True</td>\n",
       "      <td>[loaded_language]</td>\n",
       "      <td>[[25, 35], [103, 128], [149, 166]]</td>\n",
       "    </tr>\n",
       "    <tr>\n",
       "      <th>3848</th>\n",
       "      <td>d7cfa984-46f2-450d-b4ec-28a0b5d93756</td>\n",
       "      <td>Глава ФСБ Бортников ответил журналистам, почем...</td>\n",
       "      <td>ru</td>\n",
       "      <td>False</td>\n",
       "      <td>None</td>\n",
       "      <td>None</td>\n",
       "    </tr>\n",
       "    <tr>\n",
       "      <th>3849</th>\n",
       "      <td>4256b2b8-43bc-4d90-95c4-5fb25f1ab0e3</td>\n",
       "      <td>В ДНР завозили наркотики в бытовой технике\\nОб...</td>\n",
       "      <td>ru</td>\n",
       "      <td>False</td>\n",
       "      <td>None</td>\n",
       "      <td>None</td>\n",
       "    </tr>\n",
       "    <tr>\n",
       "      <th>3850</th>\n",
       "      <td>d7700072-24d9-443c-8bdb-b5cdd5530d86</td>\n",
       "      <td>Ще вчора ти \\nпогоджував\\n своєму корешу розпи...</td>\n",
       "      <td>uk</td>\n",
       "      <td>True</td>\n",
       "      <td>[loaded_language, whataboutism, cliche]</td>\n",
       "      <td>[[0, 203]]</td>\n",
       "    </tr>\n",
       "  </tbody>\n",
       "</table>\n",
       "<p>3851 rows × 6 columns</p>\n",
       "</div>"
      ],
      "text/plain": [
       "                                        id  \\\n",
       "0     0bb0c7fa-101b-4583-a5f9-9d503339141c   \n",
       "1     7159f802-6f99-4e9d-97bd-6f565a4a0fae   \n",
       "2     e6a427f1-211f-405f-bd8b-70798458d656   \n",
       "3     1647a352-4cd3-40f6-bfa1-d87d42e34eea   \n",
       "4     9c01de00-841f-4b50-9407-104e9ffb03bf   \n",
       "...                                    ...   \n",
       "3846  0e5dd135-ef41-48d3-b274-faedf3a2126c   \n",
       "3847  08e6772a-9793-4ec9-babd-2a9e0e8b31f9   \n",
       "3848  d7cfa984-46f2-450d-b4ec-28a0b5d93756   \n",
       "3849  4256b2b8-43bc-4d90-95c4-5fb25f1ab0e3   \n",
       "3850  d7700072-24d9-443c-8bdb-b5cdd5530d86   \n",
       "\n",
       "                                                content lang  manipulative  \\\n",
       "0     Новий огляд мапи DeepState від російського вій...   uk          True   \n",
       "1     Недавно 95 квартал жёстко поглумился над русск...   ru          True   \n",
       "2     🤩\\nТим часом йде евакуація Бєлгородського авто...   uk          True   \n",
       "3     В Україні найближчим часом мають намір посилит...   uk         False   \n",
       "4     Расчёты 122-мм САУ 2С1 \"Гвоздика\" 132-й бригад...   ru          True   \n",
       "...                                                 ...  ...           ...   \n",
       "3846  🤭\\nросія ставить ППО на дахах адмінбудівель\\nр...   uk          True   \n",
       "3847  К слову, Бабий не просто «ларечник», а и челов...   ru          True   \n",
       "3848  Глава ФСБ Бортников ответил журналистам, почем...   ru         False   \n",
       "3849  В ДНР завозили наркотики в бытовой технике\\nОб...   ru         False   \n",
       "3850  Ще вчора ти \\nпогоджував\\n своєму корешу розпи...   uk          True   \n",
       "\n",
       "                                   techniques  \\\n",
       "0                 [euphoria, loaded_language]   \n",
       "1           [loaded_language, cherry_picking]   \n",
       "2                 [loaded_language, euphoria]   \n",
       "3                                        None   \n",
       "4                           [loaded_language]   \n",
       "...                                       ...   \n",
       "3846              [loaded_language, euphoria]   \n",
       "3847                        [loaded_language]   \n",
       "3848                                     None   \n",
       "3849                                     None   \n",
       "3850  [loaded_language, whataboutism, cliche]   \n",
       "\n",
       "                                          trigger_words  \n",
       "0           [[27, 63], [65, 88], [90, 183], [186, 308]]  \n",
       "1         [[0, 40], [123, 137], [180, 251], [253, 274]]  \n",
       "2                                           [[55, 100]]  \n",
       "3                                                  None  \n",
       "4                                          [[114, 144]]  \n",
       "...                                                 ...  \n",
       "3846  [[2, 7], [43, 75], [77, 143], [145, 178], [340...  \n",
       "3847                 [[25, 35], [103, 128], [149, 166]]  \n",
       "3848                                               None  \n",
       "3849                                               None  \n",
       "3850                                         [[0, 203]]  \n",
       "\n",
       "[3851 rows x 6 columns]"
      ]
     },
     "execution_count": 33,
     "metadata": {},
     "output_type": "execute_result"
    }
   ],
   "source": [
    "windowed_data_df = pd.DataFrame(windowed_data)\n",
    "windowed_data_df"
   ]
  },
  {
   "cell_type": "code",
   "execution_count": 21,
   "metadata": {},
   "outputs": [
    {
     "name": "stdout",
     "output_type": "stream",
     "text": [
      "10\n",
      "15\n",
      "62\n",
      "63\n",
      "73\n",
      "89\n",
      "127\n",
      "132\n",
      "153\n",
      "154\n",
      "204\n",
      "262\n",
      "263\n",
      "282\n",
      "310\n",
      "326\n",
      "328\n",
      "374\n",
      "393\n",
      "400\n",
      "408\n",
      "410\n",
      "411\n",
      "412\n",
      "420\n",
      "454\n",
      "467\n",
      "490\n",
      "491\n",
      "531\n",
      "533\n",
      "536\n",
      "563\n",
      "584\n",
      "591\n",
      "592\n",
      "593\n",
      "612\n",
      "613\n",
      "639\n",
      "643\n",
      "652\n",
      "655\n",
      "660\n",
      "661\n",
      "662\n",
      "681\n",
      "682\n",
      "697\n",
      "722\n",
      "731\n",
      "732\n",
      "772\n",
      "773\n",
      "774\n",
      "787\n",
      "797\n",
      "802\n",
      "833\n",
      "858\n",
      "879\n",
      "880\n",
      "889\n",
      "897\n",
      "898\n",
      "916\n",
      "918\n",
      "948\n",
      "975\n",
      "1000\n",
      "1038\n",
      "1039\n",
      "1040\n",
      "1055\n",
      "1072\n",
      "1091\n",
      "1107\n",
      "1108\n",
      "1110\n",
      "1111\n",
      "1112\n",
      "1134\n",
      "1152\n",
      "1155\n",
      "1171\n",
      "1180\n",
      "1200\n",
      "1219\n",
      "1231\n",
      "1237\n",
      "1267\n",
      "1274\n",
      "1289\n",
      "1304\n",
      "1320\n",
      "1437\n",
      "1439\n",
      "1448\n",
      "1469\n",
      "1470\n",
      "1488\n",
      "1501\n",
      "1503\n",
      "1506\n",
      "1514\n",
      "1537\n",
      "1588\n",
      "1619\n",
      "1620\n",
      "1664\n",
      "1685\n",
      "1705\n",
      "1779\n",
      "1817\n",
      "1818\n",
      "1824\n",
      "1833\n",
      "1834\n",
      "1835\n",
      "1863\n",
      "1866\n",
      "1888\n",
      "1895\n",
      "1898\n",
      "1912\n",
      "1913\n",
      "1916\n",
      "1919\n",
      "1920\n",
      "1964\n",
      "1984\n",
      "1985\n",
      "2003\n",
      "2024\n",
      "2057\n",
      "2062\n",
      "2063\n",
      "2127\n",
      "2148\n",
      "2151\n",
      "2153\n",
      "2163\n",
      "2192\n",
      "2197\n",
      "2198\n",
      "2199\n",
      "2202\n",
      "2236\n",
      "2266\n",
      "2283\n",
      "2320\n",
      "2323\n",
      "2324\n",
      "2325\n",
      "2335\n",
      "2355\n",
      "2387\n",
      "2388\n",
      "2423\n",
      "2446\n",
      "2452\n",
      "2465\n",
      "2495\n",
      "2504\n",
      "2528\n",
      "2531\n",
      "2534\n",
      "2546\n",
      "2565\n",
      "2575\n",
      "2592\n",
      "2593\n",
      "2597\n",
      "2598\n",
      "2602\n",
      "2633\n",
      "2662\n",
      "2697\n",
      "2704\n",
      "2707\n",
      "2708\n",
      "2713\n",
      "2772\n",
      "2776\n",
      "2777\n",
      "2778\n",
      "2781\n",
      "2782\n",
      "2798\n",
      "2799\n",
      "2800\n",
      "2826\n",
      "2827\n",
      "2859\n",
      "2866\n",
      "2867\n",
      "2868\n",
      "2885\n",
      "2886\n",
      "2887\n",
      "2894\n",
      "2911\n",
      "2921\n",
      "2966\n",
      "2967\n",
      "2968\n",
      "2985\n",
      "3075\n",
      "3089\n",
      "3090\n",
      "3091\n",
      "3093\n",
      "3094\n",
      "3100\n",
      "3132\n",
      "3133\n",
      "3138\n",
      "3189\n",
      "3221\n",
      "3222\n",
      "3231\n",
      "3275\n",
      "3288\n",
      "3294\n",
      "3306\n",
      "3334\n",
      "3335\n",
      "3336\n",
      "3352\n",
      "3353\n",
      "3354\n",
      "3358\n",
      "3375\n",
      "3376\n",
      "3419\n",
      "3439\n",
      "3440\n",
      "3472\n",
      "3483\n",
      "3504\n",
      "3505\n",
      "3521\n",
      "3528\n",
      "3553\n",
      "3554\n",
      "3565\n",
      "3591\n",
      "3617\n",
      "3618\n",
      "3645\n",
      "3646\n",
      "3647\n",
      "3661\n",
      "3667\n",
      "3676\n",
      "3699\n",
      "3700\n",
      "3707\n",
      "3725\n",
      "3726\n",
      "3727\n",
      "3728\n",
      "3739\n",
      "3742\n",
      "3773\n",
      "3774\n",
      "3792\n",
      "3804\n",
      "3805\n",
      "3897\n",
      "3925\n",
      "3931\n",
      "3950\n",
      "3972\n",
      "4030\n",
      "4039\n",
      "4077\n",
      "4087\n",
      "4127\n",
      "4128\n",
      "4142\n",
      "4162\n",
      "4163\n",
      "4204\n",
      "4234\n"
     ]
    }
   ],
   "source": [
    "prev_item = None\n",
    "indxs = []\n",
    "for item in windowed_data_df.iterrows():\n",
    "    inx = item[0]\n",
    "    item = item[1]\n",
    "    if prev_item is not None:\n",
    "        if item['id'] == prev_item['id'] and item['trigger_words'] is not None and item['trigger_words'] != []:\n",
    "            print(inx)\n",
    "            indxs.append(inx)\n",
    "    prev_item = item"
   ]
  },
  {
   "cell_type": "code",
   "execution_count": 22,
   "metadata": {},
   "outputs": [
    {
     "name": "stdout",
     "output_type": "stream",
     "text": [
      "285\n"
     ]
    }
   ],
   "source": [
    "print(len(indxs))"
   ]
  },
  {
   "cell_type": "markdown",
   "metadata": {},
   "source": [
    "Saving"
   ]
  },
  {
   "cell_type": "code",
   "execution_count": 34,
   "metadata": {},
   "outputs": [],
   "source": [
    "windowed_data_df.to_parquet(RAW_DATA_FOLDER / \"span-detection-windowed.parquet\")"
   ]
  },
  {
   "cell_type": "markdown",
   "metadata": {},
   "source": [
    "## Techniques classification"
   ]
  },
  {
   "cell_type": "code",
   "execution_count": null,
   "metadata": {},
   "outputs": [],
   "source": [
    "techniques_classification_tbl = pd.read_parquet(\n",
    "    RAW_DATA_FOLDER / \"techniques-classification.parquet\"\n",
    ")\n",
    "\n",
    "techniques_classification_tbl.head(5)"
   ]
  },
  {
   "cell_type": "code",
   "execution_count": null,
   "metadata": {},
   "outputs": [],
   "source": [
    "len(techniques_classification_tbl)"
   ]
  }
 ],
 "metadata": {
  "kernelspec": {
   "display_name": "main",
   "language": "python",
   "name": "python3"
  },
  "language_info": {
   "codemirror_mode": {
    "name": "ipython",
    "version": 3
   },
   "file_extension": ".py",
   "mimetype": "text/x-python",
   "name": "python",
   "nbconvert_exporter": "python",
   "pygments_lexer": "ipython3",
   "version": "3.10.15"
  }
 },
 "nbformat": 4,
 "nbformat_minor": 2
}
