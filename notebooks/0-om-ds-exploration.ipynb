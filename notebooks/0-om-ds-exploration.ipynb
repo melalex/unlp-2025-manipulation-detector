{
 "cells": [
  {
   "cell_type": "markdown",
   "metadata": {},
   "source": [
    "# Dataset exploration"
   ]
  },
  {
   "cell_type": "markdown",
   "metadata": {},
   "source": [
    "1. Import dependencies"
   ]
  },
  {
   "cell_type": "code",
   "execution_count": 1,
   "metadata": {},
   "outputs": [],
   "source": [
    "import pandas as pd\n",
    "\n",
    "from src.definitions import RAW_DATA_FOLDER"
   ]
  },
  {
   "cell_type": "markdown",
   "metadata": {},
   "source": [
    "## Span detection"
   ]
  },
  {
   "cell_type": "code",
   "execution_count": 2,
   "metadata": {},
   "outputs": [
    {
     "data": {
      "text/html": [
       "<div>\n",
       "<style scoped>\n",
       "    .dataframe tbody tr th:only-of-type {\n",
       "        vertical-align: middle;\n",
       "    }\n",
       "\n",
       "    .dataframe tbody tr th {\n",
       "        vertical-align: top;\n",
       "    }\n",
       "\n",
       "    .dataframe thead th {\n",
       "        text-align: right;\n",
       "    }\n",
       "</style>\n",
       "<table border=\"1\" class=\"dataframe\">\n",
       "  <thead>\n",
       "    <tr style=\"text-align: right;\">\n",
       "      <th></th>\n",
       "      <th>id</th>\n",
       "      <th>content</th>\n",
       "      <th>lang</th>\n",
       "      <th>manipulative</th>\n",
       "      <th>techniques</th>\n",
       "      <th>trigger_words</th>\n",
       "    </tr>\n",
       "  </thead>\n",
       "  <tbody>\n",
       "    <tr>\n",
       "      <th>0</th>\n",
       "      <td>0bb0c7fa-101b-4583-a5f9-9d503339141c</td>\n",
       "      <td>Новий огляд мапи DeepState від російського вій...</td>\n",
       "      <td>uk</td>\n",
       "      <td>True</td>\n",
       "      <td>[euphoria, loaded_language]</td>\n",
       "      <td>[[27, 63], [65, 88], [90, 183], [186, 308]]</td>\n",
       "    </tr>\n",
       "    <tr>\n",
       "      <th>1</th>\n",
       "      <td>7159f802-6f99-4e9d-97bd-6f565a4a0fae</td>\n",
       "      <td>Недавно 95 квартал жёстко поглумился над русск...</td>\n",
       "      <td>ru</td>\n",
       "      <td>True</td>\n",
       "      <td>[loaded_language, cherry_picking]</td>\n",
       "      <td>[[0, 40], [123, 137], [180, 251], [253, 274]]</td>\n",
       "    </tr>\n",
       "    <tr>\n",
       "      <th>2</th>\n",
       "      <td>e6a427f1-211f-405f-bd8b-70798458d656</td>\n",
       "      <td>🤩\\nТим часом йде евакуація Бєлгородського авто...</td>\n",
       "      <td>uk</td>\n",
       "      <td>True</td>\n",
       "      <td>[loaded_language, euphoria]</td>\n",
       "      <td>[[55, 100]]</td>\n",
       "    </tr>\n",
       "    <tr>\n",
       "      <th>3</th>\n",
       "      <td>1647a352-4cd3-40f6-bfa1-d87d42e34eea</td>\n",
       "      <td>В Україні найближчим часом мають намір посилит...</td>\n",
       "      <td>uk</td>\n",
       "      <td>False</td>\n",
       "      <td>None</td>\n",
       "      <td>None</td>\n",
       "    </tr>\n",
       "    <tr>\n",
       "      <th>4</th>\n",
       "      <td>9c01de00-841f-4b50-9407-104e9ffb03bf</td>\n",
       "      <td>Расчёты 122-мм САУ 2С1 \"Гвоздика\" 132-й бригад...</td>\n",
       "      <td>ru</td>\n",
       "      <td>True</td>\n",
       "      <td>[loaded_language]</td>\n",
       "      <td>[[114, 144]]</td>\n",
       "    </tr>\n",
       "  </tbody>\n",
       "</table>\n",
       "</div>"
      ],
      "text/plain": [
       "                                     id  \\\n",
       "0  0bb0c7fa-101b-4583-a5f9-9d503339141c   \n",
       "1  7159f802-6f99-4e9d-97bd-6f565a4a0fae   \n",
       "2  e6a427f1-211f-405f-bd8b-70798458d656   \n",
       "3  1647a352-4cd3-40f6-bfa1-d87d42e34eea   \n",
       "4  9c01de00-841f-4b50-9407-104e9ffb03bf   \n",
       "\n",
       "                                             content lang  manipulative  \\\n",
       "0  Новий огляд мапи DeepState від російського вій...   uk          True   \n",
       "1  Недавно 95 квартал жёстко поглумился над русск...   ru          True   \n",
       "2  🤩\\nТим часом йде евакуація Бєлгородського авто...   uk          True   \n",
       "3  В Україні найближчим часом мають намір посилит...   uk         False   \n",
       "4  Расчёты 122-мм САУ 2С1 \"Гвоздика\" 132-й бригад...   ru          True   \n",
       "\n",
       "                          techniques  \\\n",
       "0        [euphoria, loaded_language]   \n",
       "1  [loaded_language, cherry_picking]   \n",
       "2        [loaded_language, euphoria]   \n",
       "3                               None   \n",
       "4                  [loaded_language]   \n",
       "\n",
       "                                   trigger_words  \n",
       "0    [[27, 63], [65, 88], [90, 183], [186, 308]]  \n",
       "1  [[0, 40], [123, 137], [180, 251], [253, 274]]  \n",
       "2                                    [[55, 100]]  \n",
       "3                                           None  \n",
       "4                                   [[114, 144]]  "
      ]
     },
     "execution_count": 2,
     "metadata": {},
     "output_type": "execute_result"
    }
   ],
   "source": [
    "span_detection_tbl = pd.read_parquet(RAW_DATA_FOLDER / \"span-detection.parquet\")\n",
    "\n",
    "span_detection_tbl.head(5)"
   ]
  },
  {
   "cell_type": "code",
   "execution_count": 3,
   "metadata": {},
   "outputs": [
    {
     "data": {
      "text/plain": [
       "3822"
      ]
     },
     "execution_count": 3,
     "metadata": {},
     "output_type": "execute_result"
    }
   ],
   "source": [
    "len(span_detection_tbl)"
   ]
  },
  {
   "cell_type": "code",
   "execution_count": 5,
   "metadata": {},
   "outputs": [
    {
     "data": {
      "text/plain": [
       "{'appeal_to_fear',\n",
       " 'bandwagon',\n",
       " 'cherry_picking',\n",
       " 'cliche',\n",
       " 'euphoria',\n",
       " 'fud',\n",
       " 'glittering_generalities',\n",
       " 'loaded_language',\n",
       " 'straw_man',\n",
       " 'whataboutism'}"
      ]
     },
     "execution_count": 5,
     "metadata": {},
     "output_type": "execute_result"
    }
   ],
   "source": [
    "set(\n",
    "    value\n",
    "    for sublist in span_detection_tbl[\"techniques\"]\n",
    "    if sublist is not None\n",
    "    for value in sublist\n",
    ")"
   ]
  },
  {
   "cell_type": "code",
   "execution_count": 14,
   "metadata": {},
   "outputs": [
    {
     "data": {
      "text/plain": [
       "'від російського військового експерта'"
      ]
     },
     "execution_count": 14,
     "metadata": {},
     "output_type": "execute_result"
    }
   ],
   "source": [
    "span_detection_tbl[\"content\"][0][27: 63]"
   ]
  },
  {
   "cell_type": "code",
   "execution_count": 12,
   "metadata": {},
   "outputs": [
    {
     "data": {
      "text/plain": [
       "array(['uk', 'ru'], dtype=object)"
      ]
     },
     "execution_count": 12,
     "metadata": {},
     "output_type": "execute_result"
    }
   ],
   "source": [
    "span_detection_tbl[\"lang\"].unique()"
   ]
  },
  {
   "cell_type": "markdown",
   "metadata": {},
   "source": [
    "## Techniques classification"
   ]
  },
  {
   "cell_type": "code",
   "execution_count": null,
   "metadata": {},
   "outputs": [],
   "source": [
    "techniques_classification_tbl = pd.read_parquet(\n",
    "    RAW_DATA_FOLDER / \"techniques-classification.parquet\"\n",
    ")\n",
    "\n",
    "techniques_classification_tbl.head(5)"
   ]
  },
  {
   "cell_type": "code",
   "execution_count": null,
   "metadata": {},
   "outputs": [],
   "source": [
    "len(techniques_classification_tbl)"
   ]
  }
 ],
 "metadata": {
  "kernelspec": {
   "display_name": ".venv",
   "language": "python",
   "name": "python3"
  },
  "language_info": {
   "codemirror_mode": {
    "name": "ipython",
    "version": 3
   },
   "file_extension": ".py",
   "mimetype": "text/x-python",
   "name": "python",
   "nbconvert_exporter": "python",
   "pygments_lexer": "ipython3",
   "version": "3.11.10"
  }
 },
 "nbformat": 4,
 "nbformat_minor": 2
}
